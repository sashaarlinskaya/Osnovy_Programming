{
  "nbformat": 4,
  "nbformat_minor": 0,
  "metadata": {
    "colab": {
      "provenance": [],
      "include_colab_link": true
    },
    "kernelspec": {
      "name": "python3",
      "display_name": "Python 3"
    },
    "language_info": {
      "name": "python"
    }
  },
  "cells": [
    {
      "cell_type": "markdown",
      "metadata": {
        "id": "view-in-github",
        "colab_type": "text"
      },
      "source": [
        "<a href=\"https://colab.research.google.com/github/sashaarlinskaya/Osnovy_Programming/blob/main/%D0%9B%D0%B0%D0%B12_pgpgpgpggp%22.ipynb\" target=\"_parent\"><img src=\"https://colab.research.google.com/assets/colab-badge.svg\" alt=\"Open In Colab\"/></a>"
      ]
    },
    {
      "cell_type": "markdown",
      "source": [
        "В рамках приложения разработать класс В – наследник класса А (задание\n",
        "2) с полем d и свойством с2. Свойство с2 – результат вычисления\n",
        "выражения над полями a, b, d. В теле свойства использовать управляющий\n",
        "оператор (см. вариант в таблице 2.2). У класса А создать конструктор,\n",
        "инициализирующий его поля. Для класса В определить 2 конструктора:\n",
        "один – наследуется от конструктора класса А, второй – собственный. В\n",
        "теле программы создать объекты классов А и В, продемонстрировав\n",
        "работу всех конструкторов. Вывести значения свойства на экран. "
      ],
      "metadata": {
        "id": "E63SiSpzJkRD"
      }
    },
    {
      "cell_type": "code",
      "execution_count": null,
      "metadata": {
        "colab": {
          "base_uri": "https://localhost:8080/"
        },
        "id": "fchbrz5qJjdl",
        "outputId": "d3556d42-0cf8-47c7-b5a9-a5fb36327567"
      },
      "outputs": [
        {
          "output_type": "stream",
          "name": "stdout",
          "text": [
            "-2\n"
          ]
        }
      ],
      "source": [
        "class A:\n",
        "  a = int()\n",
        "  b = int()\n",
        "  def __init__(self, a, b):\n",
        "    self.a = a\n",
        "    self.b = b\n",
        "\n",
        "class B(A):\n",
        "  d = int()\n",
        "  def __init__(self, a, b, d):\n",
        "    super().__init__(a, b)\n",
        "    self.d = d\n",
        "    \n",
        "  def __init__(self, a, b):\n",
        "    super().__init__(a, b)\n",
        "    self.d = 0\n",
        "\n",
        "  def c2(self):\n",
        "    if self.a > self.b:\n",
        "      return self.a + self.b + self.d\n",
        "    elif self.a < self.b:\n",
        "      return self.a - self.b + self.d\n",
        "    else:\n",
        "      return self.a * self.b + self.d\n",
        "\n",
        "\n",
        "n2 = B(3, 5,)\n",
        "print(n2.c2())"
      ]
    },
    {
      "cell_type": "markdown",
      "source": [
        "1. Создайте класс «зарплата», который вычисляет сумму зарплаты в зависимости\n",
        "от тарифной ставки и числа отработанных дней. Расширьте метод начислением\n",
        "процентов в зависимости от объема продаж. "
      ],
      "metadata": {
        "id": "04ZcCUfKPeeG"
      }
    },
    {
      "cell_type": "code",
      "source": [
        "try:\n",
        "  class Salary:\n",
        "    def __init__(self, rate, days,nalog):\n",
        "      self.days = days\n",
        "      self.rate = rate\n",
        "      self.nalog= nalog\n",
        "      \n",
        "    \n",
        "    def calculate(self, sales):\n",
        "      nalog2 =1 - self.nalog\n",
        "      salary= self.rate * self.days\n",
        "      salary= salary + (sales * 0.1)\n",
        "      salary= salary * (1 - self.nalog/100)\n",
        "      return salary\n",
        "  m = Salary(1000, 20, 13)\n",
        "  print(\"Salary with sales:\", m.calculate(5000))\n",
        "except Exception:\n",
        "  print('Любая ошибка!')"
      ],
      "metadata": {
        "colab": {
          "base_uri": "https://localhost:8080/"
        },
        "id": "9XPV2G3mZtfb",
        "outputId": "b50c2a83-1826-4df6-b230-27adc1628753"
      },
      "execution_count": 18,
      "outputs": [
        {
          "output_type": "stream",
          "name": "stdout",
          "text": [
            "Salary with sales: 17835.0\n"
          ]
        }
      ]
    },
    {
      "cell_type": "markdown",
      "source": [
        "2. Переопределите метод начисления зарплаты: в случае, если объем продаж в\n",
        "месяц превысил 1 000 000, проценты добавляются к зарплате, в противном\n",
        "случае – вычитаются. \n"
      ],
      "metadata": {
        "id": "xMeDHfCUPho2"
      }
    },
    {
      "cell_type": "code",
      "source": [
        "class Salary:\n",
        "  def __init__(self, rate, days, sales):\n",
        "    self.rate = rate\n",
        "    self.days = days\n",
        "    self.sales = sales\n",
        "\n",
        "  def calculate_salary(self):\n",
        "    base_salary = self.rate * self.days\n",
        "    bonus = self.sales * 0.01\n",
        "    if self.sales > 1000000:\n",
        "      total_salary = base_salary + bonus\n",
        "    else:\n",
        "      total_salary = base_salary - bonus\n",
        "    return total_salary\n",
        "m = Salary(200, 5,  1000001)\n",
        "print(m.calculate_salary())"
      ],
      "metadata": {
        "id": "RdbRXmZbPk2-",
        "colab": {
          "base_uri": "https://localhost:8080/"
        },
        "outputId": "5c2bb132-1e71-4bb1-d623-279f403def12"
      },
      "execution_count": null,
      "outputs": [
        {
          "output_type": "stream",
          "name": "stdout",
          "text": [
            "11000.01\n"
          ]
        }
      ]
    },
    {
      "cell_type": "markdown",
      "source": [
        "3. Создайте для класса «сотрудники» абстрактный метод начисления зарплаты.\n",
        "Создайте два класса-наследника: сотрудник отдела продаж и сотрудник склада.Для первого класса начисление происходит аналогично заданию 1, а для второго\n",
        "–в зависимости от количества отработанных дней. "
      ],
      "metadata": {
        "id": "guLl4PiDLoA_"
      }
    },
    {
      "cell_type": "code",
      "source": [
        "from abc import ABC, abstractmethod\n",
        "\n",
        "class Employee(ABC):\n",
        "  def __init__(self, name, rate):\n",
        "    self.name = name\n",
        "    self.rate = rate\n",
        "\n",
        "  @abstractmethod\n",
        "  def calculate_salary(self):\n",
        "    pass\n",
        "\n",
        "class FirstEmployee(Employee):\n",
        "  def __init__(self, name, rate, sales_volume):\n",
        "    super().__init__(name, rate)\n",
        "    self.sales_volume = sales_volume\n",
        "\n",
        "  def calculate_salary(self, days_worked):\n",
        "    salary = self.rate * days_worked\n",
        "    if self.sales_volume > 1000000:\n",
        "      salary += salary * 0.1\n",
        "    else:\n",
        "      salary -= salary * 0.1\n",
        "    return salary\n",
        "\n",
        "class SecondEmployee(Employee):\n",
        "  def __init__(self, name, rate, days_worked):\n",
        "    super().__init__(name, rate)\n",
        "    self.days_worked = days_worked\n",
        "\n",
        "  def calculate_salary(self):\n",
        "    return self.rate * self.days_worked\n",
        "m = FirstEmployee(\"John\", 100, 1200000)\n",
        "print(m.calculate_salary(20))\n",
        "n =SecondEmployee(\"Mike\", 80, 22)\n",
        "print(n.calculate_salary()) "
      ],
      "metadata": {
        "colab": {
          "base_uri": "https://localhost:8080/"
        },
        "id": "ZAR-3HUeK80r",
        "outputId": "129072af-880b-4943-f210-8c3e21b4e5a1"
      },
      "execution_count": null,
      "outputs": [
        {
          "output_type": "stream",
          "name": "stdout",
          "text": [
            "2200.0\n",
            "1760\n"
          ]
        }
      ]
    },
    {
      "cell_type": "markdown",
      "source": [
        "5. Имеется класс «мебель». Создайте класс «корпусная мебель», «мягкая мебель»\n",
        "и «кухонная мебель». Определите атрибуты и методы родительского класса и\n",
        "классов-наследников."
      ],
      "metadata": {
        "id": "1yr9uXh-SsmN"
      }
    },
    {
      "cell_type": "code",
      "source": [
        "from abc import ABC, abstractmethod\n",
        "\n",
        "class Furniture(ABC):\n",
        "  @abstractmethod\n",
        "  def get_type(self):\n",
        "    pass\n",
        "\n",
        "  @abstractmethod\n",
        "  def get_material(self):\n",
        "    pass\n",
        "\n",
        "class FurnitureCorporeal(Furniture):\n",
        "  def __init__(self, material, color):\n",
        "    self.material = material\n",
        "    self.color = color\n",
        "\n",
        "  def get_type(self):\n",
        "    return \"Корпусная мебель\"\n",
        "\n",
        "  def get_material(self):\n",
        "    return f\"{self.material} ({self.color})\"\n",
        "\n",
        "class FurnitureSoft(Furniture):\n",
        "  def __init__(self, material, color, cushion_type):\n",
        "    self.material = material\n",
        "    self.color = color\n",
        "    self.cushion_type = cushion_type\n",
        "\n",
        "  def get_type(self):\n",
        "    return \"Мягкая мебель\"\n",
        "\n",
        "  def get_material(self):\n",
        "    return f\"{self.material} ({self.color}), тип подушек: {self.cushion_type}\"\n",
        "\n",
        "class FurnitureKitchen(Furniture):\n",
        "  def __init__(self, material, color, style):\n",
        "    self.material = material\n",
        "    self.color = color\n",
        "    self.style = style\n",
        "\n",
        "  def get_type(self):\n",
        "    return \"Кухонная мебель\"\n",
        "\n",
        "  def get_material(self):\n",
        "    return f\"{self.material} ({self.color}), стиль: {self.style}\"\n",
        "\n",
        "m = FurnitureCorporeal(\"Дерево\", \"Коричневый\")\n",
        "n = FurnitureSoft(\"Ткань\", \"Синий\", \"Синтепух\")\n",
        "l = FurnitureKitchen(\"Пластик\", \"Белый\", \"Модерн\")\n",
        "\n",
        "# Вывод информации о мебели\n",
        "print(m.get_type())\n",
        "print(m.get_material())\n",
        "\n",
        "print(n.get_type())\n",
        "print(n.get_material())\n",
        "\n",
        "print(l.get_type())\n",
        "print(l.get_material())"
      ],
      "metadata": {
        "colab": {
          "base_uri": "https://localhost:8080/"
        },
        "id": "RBWrTdFYSrOL",
        "outputId": "aef47425-0176-4f44-e4e3-fa718a490604"
      },
      "execution_count": null,
      "outputs": [
        {
          "output_type": "stream",
          "name": "stdout",
          "text": [
            "Корпусная мебель\n",
            "Дерево (Коричневый)\n",
            "Мягкая мебель\n",
            "Ткань (Синий), тип подушек: Синтепух\n",
            "Кухонная мебель\n",
            "Пластик (Белый), стиль: Модерн\n"
          ]
        }
      ]
    },
    {
      "cell_type": "markdown",
      "source": [
        "6. Создайте приложение, в котором необходимо разработать базовый класс man.\n",
        "Объекты этого класса содержат справочную информацию о конкретном\n",
        "человеке (фамилию, инициалы, телефон, адрес, возраст). Создайте два\n",
        "производных от него класса: manager и secretary. Объекты класса manager\n",
        "дополнительно включают номер отдела и количество подчиненных. Объекты\n",
        "класса manager дополнительно включают номер отдела и количество\n",
        "подчиненных. Объекты класса secretary дополнительно включают фамилию\n",
        "начальника. Данные о менеджерах и секретарях введите с клавиатуры и выведите\n",
        "на экран дисплея. \n"
      ],
      "metadata": {
        "id": "Ntep1xWjV98Y"
      }
    },
    {
      "cell_type": "code",
      "source": [
        "class Man:\n",
        "  def __init__(self, surname, initials, phone, address, age):\n",
        "    self.surname = surname\n",
        "    self.initials = initials\n",
        "    self.phone = phone\n",
        "    self.address = address\n",
        "    self.age = age\n",
        "\n",
        "class Manager(Man):\n",
        "  def __init__(self, surname, initials, phone, address, age, department_number, subordinates_count):\n",
        "    super().__init__(surname, initials, phone, address, age)\n",
        "    self.department_number = department_number\n",
        "    self.subordinates_count = subordinates_count\n",
        "\n",
        "class Secretary(Man):\n",
        "  def __init__(self, surname, initials, phone, address, age, boss_surname):\n",
        "    super().__init__(surname, initials, phone, address, age)\n",
        "    self.boss_surname = boss_surname\n",
        "\n",
        "surname = input(\"Введите фамилию: \")\n",
        "initials = input(\"Введите инициалы: \")\n",
        "phone = input(\"Введите телефон: \")\n",
        "address = input(\"Введите адрес: \")\n",
        "age = input(\"Введите возраст: \")\n",
        "\n",
        "department_number = input(\"Введите номер отдела (только для менеджера): \")\n",
        "subordinates_count = input(\"Введите количество подчиненных (только для менеджера): \")\n",
        "boss_surname = input(\"Введите фамилию начальника (только для секретаря): \")\n",
        "\n",
        "\n",
        "if department_number and subordinates_count:\n",
        "    man = Manager(surname, initials, phone, address, age, department_number, subordinates_count)\n",
        "elif boss_surname:\n",
        "    man = Secretary(surname, initials, phone, address, age, boss_surname)\n",
        "else:\n",
        "    man = Man(surname, initials, phone, address, age)\n",
        "\n",
        "\n",
        "print(\"Фамилия:\", man.surname)\n",
        "print(\"Инициалы:\", man.initials)\n",
        "print(\"Телефон:\", man.phone)\n",
        "print(\"Адрес:\", man.address)\n",
        "print(\"Возраст:\", man.age)\n",
        "\n",
        "if isinstance(man, Manager):\n",
        "    print(\"Номер отдела:\", man.department_number)\n",
        "    print(\"Количество подчиненных:\", man.subordinates_count)\n",
        "elif isinstance(man, Secretary):\n",
        "    print(\"Фамилия начальника:\", man.boss_surname)"
      ],
      "metadata": {
        "colab": {
          "base_uri": "https://localhost:8080/"
        },
        "id": "Irv3YTgsV-vq",
        "outputId": "6706b0a5-e187-4bfc-95b9-363e65e0557f"
      },
      "execution_count": null,
      "outputs": [
        {
          "output_type": "stream",
          "name": "stdout",
          "text": [
            "Введите фамилию: Иванов\n",
            "Введите инициалы: КА\n",
            "Введите телефон: 4635875\n",
            "Введите адрес: ысурупсрома\n",
            "Введите возраст: 45\n",
            "Введите номер отдела (только для менеджера): 474\n",
            "Введите количество подчиненных (только для менеджера): 6\n",
            "Введите фамилию начальника (только для секретаря): Волков\n",
            "Фамилия: Иванов\n",
            "Инициалы: КА\n",
            "Телефон: 4635875\n",
            "Адрес: ысурупсрома\n",
            "Возраст: 45\n",
            "Номер отдела: 474\n",
            "Количество подчиненных: 6\n"
          ]
        }
      ]
    },
    {
      "cell_type": "markdown",
      "source": [
        "7. Разработайте приложение, в котором опишите базовый класс building. Он\n",
        "хранит этаж, число комнат в квартире, общую площадь квартиры. Три\n",
        "производных класса house-k, house-p, house-m наследуют класс building. Каждый\n",
        "из них хранит надбавку к цене квадратного метра площади, зависящую от\n",
        "материала дома. Производный класс office наследует производные классы housek, house-p, house-m и хранит наличие лоджии и надбавку, связанную с районом\n",
        "города. Вывести на экран стоимость конкретной квартиры. "
      ],
      "metadata": {
        "id": "-5DUqMHRc0qQ"
      }
    },
    {
      "cell_type": "code",
      "source": [
        "class Building:\n",
        "  def __init__(self, floor, rooms, total_area):\n",
        "    self.floor = floor\n",
        "    self.rooms = rooms\n",
        "    self.total_area = total_area\n",
        "        \n",
        "  def get_price(self):\n",
        "    square_price = 1000  # базовая стоимость за квадратный метр\n",
        "    return self.total_area * square_price\n",
        "                \n",
        "class HouseK(Building):\n",
        "  def __init__(self, floor, rooms, total_area):\n",
        "    super().__init__(floor, rooms, total_area)\n",
        "    self.material_bonus = 0.2  # надбавка за материал дома (20%)\n",
        "        \n",
        "  def get_price(self):\n",
        "    base_price = super().get_price()\n",
        "    return base_price * (1 + self.material_bonus)\n",
        "               \n",
        "class HouseP(Building):\n",
        "  def __init__(self, floor, rooms, total_area):\n",
        "    super().__init__(floor, rooms, total_area)\n",
        "    self.material_bonus = 0.1  # надбавка за материал дома (10%)\n",
        "        \n",
        "  def get_price(self):\n",
        "    base_price = super().get_price()\n",
        "    return base_price * (1 + self.material_bonus)\n",
        "               \n",
        "class HouseM(Building):\n",
        "  def __init__(self, floor, rooms, total_area):\n",
        "    super().__init__(floor, rooms, total_area)\n",
        "    self.material_bonus = 0.3  # надбавка за материал дома (30%)\n",
        "        \n",
        "  def get_price(self):\n",
        "    base_price = super().get_price()\n",
        "    return base_price * (1 + self.material_bonus)\n",
        "               \n",
        "class Office(HouseK, HouseP, HouseM):\n",
        "  def __init__(self, floor, rooms, total_area, balcony, district_bonus):\n",
        "    super().__init__(floor, rooms, total_area)\n",
        "    self.balcony = balcony\n",
        "    self.district_bonus = district_bonus\n",
        "        \n",
        "  def get_price(self):\n",
        "    base_price = super().get_price()\n",
        "    if self.balcony:\n",
        "      base_price *= 1.1  # надбавка за наличие балкона (10%)\n",
        "    return base_price * (1 + (self.district_bonus/10))\n",
        "house_k = HouseK(2, 3, 100)\n",
        "house_p = HouseP(1, 2, 70)\n",
        "house_m = HouseM(3, 4, 150)\n",
        "\n",
        "office = Office(4, 6, 200, True, 3)\n",
        "\n",
        "\n",
        "print(\"Стоимость квартиры из кирпича по К-серии: \", house_k.get_price())\n",
        "print(\"Стоимость квартиры из панели по Р-серии: \", house_p.get_price())\n",
        "print(\"Стоимость квартиры из монолита по М-серии: \", house_m.get_price())\n",
        "print(\"Стоимость офиса в центре города из кирпича по М-серии: \", office.get_price())"
      ],
      "metadata": {
        "colab": {
          "base_uri": "https://localhost:8080/"
        },
        "id": "4z_C7fWgc5eY",
        "outputId": "1092f2df-54ad-4841-c1a3-1f96e08970bb"
      },
      "execution_count": null,
      "outputs": [
        {
          "output_type": "stream",
          "name": "stdout",
          "text": [
            "Стоимость квартиры из кирпича по К-серии:  120000.0\n",
            "Стоимость квартиры из панели по Р-серии:  77000.0\n",
            "Стоимость квартиры из монолита по М-серии:  195000.0\n",
            "Стоимость офиса в центре города из кирпича по М-серии:  494208.0000000001\n"
          ]
        }
      ]
    },
    {
      "cell_type": "markdown",
      "source": [
        "8. В программе рассчитываются площади треугольника и прямоугольника. С\n",
        "этой целью создается абстрактный класс area, в котором сохраняются две\n",
        "размерности фигуры. В производных классах задайте вид конкретных фигур и\n",
        "возвратите их площади. "
      ],
      "metadata": {
        "id": "iBx_IqU2jLHO"
      }
    },
    {
      "cell_type": "code",
      "source": [
        "from abc import ABC, abstractmethod\n",
        "\n",
        "class Area(ABC):\n",
        "    def __init__(self, length, width):\n",
        "        self.length = length\n",
        "        self.width = width\n",
        "    \n",
        "    @abstractmethod\n",
        "    def get_area(self):\n",
        "        pass\n",
        "\n",
        "class Triangle(Area):\n",
        "    def get_area(self):\n",
        "        return 0.5 * self.length * self.width\n",
        "\n",
        "class Rectangle(Area):\n",
        "    def get_area(self):\n",
        "        return self.length * self.width\n",
        "\n",
        "# Пример использования\n",
        "t = Triangle(10, 5)\n",
        "print(\"Площадь треугольника: \", t.get_area())\n",
        "\n",
        "r = Rectangle(8, 6)\n",
        "print(\"Площадь прямоугольника: \", r.get_area())\n",
        "\n"
      ],
      "metadata": {
        "colab": {
          "base_uri": "https://localhost:8080/"
        },
        "id": "jH_he1cMjL-d",
        "outputId": "40bfb0ca-a4a4-4a97-d164-2a3f0692da70"
      },
      "execution_count": null,
      "outputs": [
        {
          "output_type": "stream",
          "name": "stdout",
          "text": [
            "Площадь треугольника:  25.0\n",
            "Площадь прямоугольника:  48\n"
          ]
        }
      ]
    }
  ]
}