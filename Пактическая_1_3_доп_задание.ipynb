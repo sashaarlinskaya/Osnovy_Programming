{
  "nbformat": 4,
  "nbformat_minor": 0,
  "metadata": {
    "colab": {
      "provenance": [],
      "authorship_tag": "ABX9TyPSCNEEbh1Xy58gWRhdhBC5",
      "include_colab_link": true
    },
    "kernelspec": {
      "name": "python3",
      "display_name": "Python 3"
    },
    "language_info": {
      "name": "python"
    }
  },
  "cells": [
    {
      "cell_type": "markdown",
      "metadata": {
        "id": "view-in-github",
        "colab_type": "text"
      },
      "source": [
        "<a href=\"https://colab.research.google.com/github/sashaarlinskaya/Osnovy_Programming/blob/OP/%D0%9F%D0%B0%D0%BA%D1%82%D0%B8%D1%87%D0%B5%D1%81%D0%BA%D0%B0%D1%8F_1_3_%D0%B4%D0%BE%D0%BF_%D0%B7%D0%B0%D0%B4%D0%B0%D0%BD%D0%B8%D0%B5.ipynb\" target=\"_parent\"><img src=\"https://colab.research.google.com/assets/colab-badge.svg\" alt=\"Open In Colab\"/></a>"
      ]
    },
    {
      "cell_type": "code",
      "execution_count": 6,
      "metadata": {
        "colab": {
          "base_uri": "https://localhost:8080/"
        },
        "id": "d4p8vlmvUkwY",
        "outputId": "1f96bea0-66f5-4060-b63c-ae30f8dd3977"
      },
      "outputs": [
        {
          "output_type": "stream",
          "name": "stdout",
          "text": [
            "введите первую оценку 5\n",
            "введите первую дисциплину русский\n",
            "введите вторую оценку 4\n",
            "введите вторую дисциплину математика\n",
            "введите третью оценку 4\n",
            "введите третью дисциплину литература\n",
            "4.333333333333333\n"
          ]
        }
      ],
      "source": [
        "try:\n",
        "  a=int(input(\"введите первую оценку \"))\n",
        "  b=str(input(\"введите первую дисциплину \"))\n",
        "  c=int(input(\"введите вторую оценку \"))\n",
        "  d=str(input(\"введите вторую дисциплину \"))\n",
        "  e=int(input(\"введите третью оценку \"))\n",
        "  f=str(input(\"введите третью дисциплину \"))\n",
        "  if b==d or d==f or f==b:\n",
        "    print('неверно введены предметы')\n",
        "  else:\n",
        "    class Student:\n",
        "      first_mark=0\n",
        "      second_mark=0\n",
        "      third_mark=0\n",
        "    marks=Student()\n",
        "    marks.first_mark=a\n",
        "    marks.second_mark=c\n",
        "    marks.third_mark=e\n",
        "    def sred(a,c,e):\n",
        "      k=(a+c+e)/3\n",
        "      return k\n",
        "    print(sred(marks.first_mark,marks.second_mark,marks.third_mark))\n",
        "except Exception:\n",
        "    print(' ошибка!')"
      ]
    }
  ]
}