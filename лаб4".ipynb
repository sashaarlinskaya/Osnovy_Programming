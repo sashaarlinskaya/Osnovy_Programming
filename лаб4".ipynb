{
  "nbformat": 4,
  "nbformat_minor": 0,
  "metadata": {
    "colab": {
      "provenance": [],
      "include_colab_link": true
    },
    "kernelspec": {
      "name": "python3",
      "display_name": "Python 3"
    },
    "language_info": {
      "name": "python"
    }
  },
  "cells": [
    {
      "cell_type": "markdown",
      "metadata": {
        "id": "view-in-github",
        "colab_type": "text"
      },
      "source": [
        "<a href=\"https://colab.research.google.com/github/sashaarlinskaya/Osnovy_Programming/blob/main/%D0%BB%D0%B0%D0%B14%22.ipynb\" target=\"_parent\"><img src=\"https://colab.research.google.com/assets/colab-badge.svg\" alt=\"Open In Colab\"/></a>"
      ]
    },
    {
      "cell_type": "markdown",
      "source": [
        "\n",
        "Построить класс 1-го уровня с указанными в задании полями и методами:\n",
        "- конструктор,\n",
        "- функция, которая определяет “качество” (Q ) по заданной формуле,\n",
        "- вывод информации об объекте.\n",
        "Построить класс-потомок, который содержит дополнительное поле P и\n",
        "перекрывает функцию качества (Q ), выполняя вычисление по новой формуле\n",
        "(Qp).\n",
        "Товар на складе:\n",
        "- наименование,\n",
        "- цена,\n",
        "- количество.\n",
        "Q = цена / количество\n",
        "P: год выпуска товара\n",
        "Qp = Q + 0,5*(Т–Р),\n",
        "где Т - текущий год\n"
      ],
      "metadata": {
        "id": "ETZPjh7VNAVK"
      }
    },
    {
      "cell_type": "code",
      "execution_count": null,
      "metadata": {
        "id": "Ds8J1hgax3Xr",
        "colab": {
          "base_uri": "https://localhost:8080/"
        },
        "outputId": "77109ed6-1314-4547-e1f9-e62949602a1b"
      },
      "outputs": [
        {
          "output_type": "stream",
          "name": "stdout",
          "text": [
            "Наименование: дикси,Цена: 500,Количество: 10,Качество: 50.0\n",
            "Наименование: дикси2,Цена: 600,Количество: 15,Качество: 41.0\n"
          ]
        }
      ],
      "source": [
        "class Warehouse:\n",
        "  cost = float()\n",
        "  count = float()\n",
        "  def __init__(self, name, cost, count):\n",
        "    self.name = name\n",
        "    self.cost= cost\n",
        "    self.count = count\n",
        "\n",
        "  def quality(self):\n",
        "    return self.cost / self.count\n",
        "\n",
        "  def info(self):\n",
        "    print(f\"Наименование: {self.name},Цена: {self.cost},Количество: {self.count},Качество: {self.quality()}\")\n",
        "\n",
        "class New (Warehouse):\n",
        "  year_of_burn = float()\n",
        "  year_now = float()\n",
        "  def __init__(self, name, cost, count, year_of_burn, year_now):\n",
        "    super().__init__(name, cost, count)\n",
        "    self.year_of_burn = year_of_burn\n",
        "    self.year_now = year_now\n",
        "\n",
        "\n",
        "  def quality(self):\n",
        "    q = super().quality()\n",
        "    p = q + (0.5 * (self.year_now - self.year_of_burn))\n",
        "    return p\n",
        "\n",
        "\n",
        "\n",
        "warehousee = Warehouse(\"дикси\", 500, 10)\n",
        "warehousee.info()\n",
        "\n",
        "\n",
        "n = New(\"дикси2\", 600, 15, 2022, 2024)\n",
        "\n",
        "n.info()"
      ]
    }
  ]
}