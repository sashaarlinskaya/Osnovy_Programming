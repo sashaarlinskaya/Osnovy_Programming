{
  "nbformat": 4,
  "nbformat_minor": 0,
  "metadata": {
    "colab": {
      "provenance": [],
      "authorship_tag": "ABX9TyOTLC9yHcCfKcFHzmXCv18K",
      "include_colab_link": true
    },
    "kernelspec": {
      "name": "python3",
      "display_name": "Python 3"
    },
    "language_info": {
      "name": "python"
    }
  },
  "cells": [
    {
      "cell_type": "markdown",
      "metadata": {
        "id": "view-in-github",
        "colab_type": "text"
      },
      "source": [
        "<a href=\"https://colab.research.google.com/github/sashaarlinskaya/Osnovy_Programming/blob/main/%D0%B8%D0%BD%D0%B4%D0%B8%D0%B2%D0%B8%D0%B4_%D0%B7%D0%B0%D0%B4_04_04_23.ipynb\" target=\"_parent\"><img src=\"https://colab.research.google.com/assets/colab-badge.svg\" alt=\"Open In Colab\"/></a>"
      ]
    },
    {
      "cell_type": "code",
      "execution_count": 2,
      "metadata": {
        "colab": {
          "base_uri": "https://localhost:8080/"
        },
        "id": "2Q0Lf_Pq9QfI",
        "outputId": "808a60da-b274-44b2-96fe-aa490a5ae304"
      },
      "outputs": [
        {
          "output_type": "stream",
          "name": "stdout",
          "text": [
            "Start\n",
            "Альбом: Бунт на корабле \n",
            "Группа: Король и шут \n",
            "Список треков:\n",
            " Исповедь вампира -4 минут\n",
            " Идол -3 минут\n",
            " Звонок -2 минут\n",
            "Общая длительность альбома: 9 минут \n",
            "Альбом: Театр демона \n",
            "Группа: Король и шут \n",
            "Список треков:\n",
            " Киногерой -4 минут\n",
            " Фокусник -3 минут\n",
            " Послание -2 минут\n",
            "Общая длительность альбома: 9 минут \n",
            "Process deleted\n",
            "Process deleted\n",
            "Process deleted\n",
            "Process deleted\n",
            "Process deleted\n",
            "Process deleted\n",
            "Process deleted\n",
            "Process deleted\n"
          ]
        }
      ],
      "source": [
        "if __name__ == \"__main__\":\n",
        "   print(\"Start\")\n",
        "class Track:\n",
        "    def __init__(self,name,duration):\n",
        "        self.duration = duration\n",
        "        self.name = str(name)\n",
        "    def __del__(self):\n",
        "        print(\"Process deleted\")\n",
        "    \n",
        "    def show(self):\n",
        "        print(f\"{self.name}-{self.duration} минут\")\n",
        "\n",
        "class Album:\n",
        "    def __init__(self,name,group):\n",
        "        self.name = name\n",
        "        self.group = group\n",
        "        self.tracks=[]\n",
        "    def __del__(self):\n",
        "        print(\"Process deleted\")\n",
        "    \n",
        "    def get_tracks(self):\n",
        "        return self.tracks\n",
        "    def add_track(self,track):\n",
        "        self.tracks.append(track)\n",
        "    def get_duration(self):\n",
        "        alld=0  #all duration \n",
        "        for track in self.tracks:\n",
        "            alld += track.duration\n",
        "        return alld\n",
        "t1 = Track(\" Исповедь вампира \",4)\n",
        "t2 = Track(\" Идол \",3)\n",
        "t3 = Track(\" Звонок \",2)\n",
        "a1=Album(\" Бунт на корабле \",\" Король и шут \")\n",
        "a1.add_track(t1)\n",
        "a1.add_track(t2)\n",
        "a1.add_track(t3)\n",
        "print(f\"Альбом:{a1.name}\")\n",
        "print(f\"Группа:{a1.group}\")\n",
        "print(\"Список треков:\")\n",
        "for track in a1.get_tracks():\n",
        "     track.show()\n",
        "print(f\"Общая длительность альбома: {a1.get_duration()} минут \")\n",
        "t4 = Track(\" Киногерой \",4)\n",
        "t5 = Track(\" Фокусник \",3)\n",
        "t6 = Track(\" Послание \",2)\n",
        "a2=Album(\" Театр демона \",\" Король и шут \")\n",
        "a2.add_track(t4)\n",
        "a2.add_track(t5)\n",
        "a2.add_track(t6)\n",
        "print(f\"Альбом:{a2.name}\")\n",
        "print(f\"Группа:{a2.group}\")\n",
        "print(\"Список треков:\")\n",
        "for track in a2.get_tracks():\n",
        "     track.show()\n",
        "print(f\"Общая длительность альбома: {a2.get_duration()} минут \")\n",
        "\n",
        "\n",
        "\n",
        "\n",
        " "
      ]
    }
  ]
}