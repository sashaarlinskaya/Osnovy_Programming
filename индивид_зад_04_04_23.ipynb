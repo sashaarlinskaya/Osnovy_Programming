{
  "nbformat": 4,
  "nbformat_minor": 0,
  "metadata": {
    "colab": {
      "provenance": [],
      "authorship_tag": "ABX9TyNIbn6KpmNTjWRKC/o2p27a",
      "include_colab_link": true
    },
    "kernelspec": {
      "name": "python3",
      "display_name": "Python 3"
    },
    "language_info": {
      "name": "python"
    }
  },
  "cells": [
    {
      "cell_type": "markdown",
      "metadata": {
        "id": "view-in-github",
        "colab_type": "text"
      },
      "source": [
        "<a href=\"https://colab.research.google.com/github/sashaarlinskaya/Osnovy_Programming/blob/main/%D0%B8%D0%BD%D0%B4%D0%B8%D0%B2%D0%B8%D0%B4_%D0%B7%D0%B0%D0%B4_04_04_23.ipynb\" target=\"_parent\"><img src=\"https://colab.research.google.com/assets/colab-badge.svg\" alt=\"Open In Colab\"/></a>"
      ]
    },
    {
      "cell_type": "code",
      "execution_count": 34,
      "metadata": {
        "colab": {
          "base_uri": "https://localhost:8080/"
        },
        "id": "2Q0Lf_Pq9QfI",
        "outputId": "e82ae82a-fe44-48b3-83a5-17b8b919f9e8"
      },
      "outputs": [
        {
          "output_type": "stream",
          "name": "stdout",
          "text": [
            "Start\n",
            "Альбом: Бунт на корабле \n",
            "Группа: Король и шут \n",
            "Список треков:\n",
            " Исповедь вампира -4 минут\n",
            " Идол -3 минут\n",
            " Звонок -2 минут\n",
            "Общая длительность альбома: 9 минут \n",
            "Альбом: Театр демона \n",
            "Группа: Король и шут \n",
            "Список треков:\n",
            " Киногерой -4 минут\n",
            " Фокусник -3 минут\n",
            " Послание -2 минут\n",
            "Общая длительность альбома: 9 минут \n"
          ]
        }
      ],
      "source": [
        "if __name__ == \"__main__\":\n",
        "   print(\"Start\")\n",
        "class Track:\n",
        "    def __init__(self,name,duration):\n",
        "        self.duration = duration\n",
        "        self.name = str(name)\n",
        "    def __del__(self):\n",
        "        print(\"Process deleted\")\n",
        "    \n",
        "    def show(self):\n",
        "        print(f\"{self.name}-{self.duration} минут\")\n",
        "\n",
        "class Album:\n",
        "    def __init__(self,name,group):\n",
        "        self.name = name\n",
        "        self.group = group\n",
        "        self.tracks=[]\n",
        "    def __del__(self):\n",
        "        print(\"Process deleted\")\n",
        "    \n",
        "    def get_tracks(self):\n",
        "        return self.tracks\n",
        "    def add_track(self,track):\n",
        "        self.tracks.append(track)\n",
        "    def get_duration(self):\n",
        "        alld=0  #all duration \n",
        "        for track in self.tracks:\n",
        "            alld += track.duration\n",
        "        return alld\n",
        "track1 = Track(\" Исповедь вампира \",4)\n",
        "track2 = Track(\" Идол \",3)\n",
        "track3 = Track(\" Звонок \",2)\n",
        "album1=Album(\" Бунт на корабле \",\" Король и шут \")\n",
        "album1.add_track(track1)\n",
        "album1.add_track(track2)\n",
        "album1.add_track(track3)\n",
        "print(f\"Альбом:{album1.name}\")\n",
        "print(f\"Группа:{album1.group}\")\n",
        "print(\"Список треков:\")\n",
        "for track in album1.get_tracks():\n",
        "     track.show()\n",
        "print(f\"Общая длительность альбома: {album1.get_duration()} минут \")\n",
        "track4 = Track(\" Киногерой \",4)\n",
        "track5 = Track(\" Фокусник \",3)\n",
        "track6 = Track(\" Послание \",2)\n",
        "album2=Album(\" Театр демона \",\" Король и шут \")\n",
        "album2.add_track(track4)\n",
        "album2.add_track(track5)\n",
        "album2.add_track(track6)\n",
        "print(f\"Альбом:{album2.name}\")\n",
        "print(f\"Группа:{album2.group}\")\n",
        "print(\"Список треков:\")\n",
        "for track in album2.get_tracks():\n",
        "     track.show()\n",
        "print(f\"Общая длительность альбома: {album2.get_duration()} минут \")\n",
        "\n",
        "\n",
        "\n",
        "\n",
        " "
      ]
    }
  ]
}