{
  "nbformat": 4,
  "nbformat_minor": 0,
  "metadata": {
    "colab": {
      "provenance": [],
      "authorship_tag": "ABX9TyMaheQ+crUyHlNEO/d6V7FM",
      "include_colab_link": true
    },
    "kernelspec": {
      "name": "python3",
      "display_name": "Python 3"
    },
    "language_info": {
      "name": "python"
    }
  },
  "cells": [
    {
      "cell_type": "markdown",
      "metadata": {
        "id": "view-in-github",
        "colab_type": "text"
      },
      "source": [
        "<a href=\"https://colab.research.google.com/github/sashaarlinskaya/Osnovy_Programming/blob/main/%D0%9B%D0%B0%D0%B1%D0%BE%D1%80%D0%B0%D1%82%D0%BE%D1%80%D0%BD%D0%B0%D1%8F_4.ipynb\" target=\"_parent\"><img src=\"https://colab.research.google.com/assets/colab-badge.svg\" alt=\"Open In Colab\"/></a>"
      ]
    },
    {
      "cell_type": "markdown",
      "source": [
        "Программирование на языке высокого уровня (Python).\n",
        "# https://www.yuripetrov.ru/edu/python\n",
        "# Задание task_04_02_01.\n",
        "\n",
        "# Выполнил: Арлинская Александра Викторовна\n",
        "# Группа: ФДЭУ-221\n",
        "# E-mail: arlinskayasasha@gmail.com\n"
      ],
      "metadata": {
        "id": "eKkjsP7fM_QG"
      }
    },
    {
      "cell_type": "markdown",
      "source": [
        "№ 4.2.1\n",
        "\n",
        "Рассчитать значение f при заданном значении вещественного числа x:\n",
        "![image.png](data:image/png;base64,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)\n",
        "При выводе на экран оставьте 2 знака после запятой."
      ],
      "metadata": {
        "id": "BFK1KDPzMXB_"
      }
    },
    {
      "cell_type": "code",
      "source": [
        "x = float(input())\n",
        "\n",
        "if x >= 0:\n",
        "    f= (x**(1/2))+(x**2)\n",
        "else:\n",
        "    f = 1 / x\n",
        "\n",
        "print('Результат:', round(f, 2))\n",
        "\n",
        "# --------------\n",
        "# Пример вывода:\n",
        "#\n",
        "# Введите число x: -10\n",
        "# f = -0.10\n",
        "\n",
        "# Введите число x: 0\n",
        "# f = 0.00\n",
        "\n",
        "# Введите число x: 10\n",
        "# f = 103.16\n",
        "\n"
      ],
      "metadata": {
        "id": "8CdR5wj6M0oS"
      },
      "execution_count": null,
      "outputs": []
    },
    {
      "cell_type": "markdown",
      "source": [
        "№ 4.2.2\n",
        "\n",
        "Определите максимальное и минимальное значения из двух различных целых чисел."
      ],
      "metadata": {
        "id": "F9xTV0ps9nrL"
      }
    },
    {
      "cell_type": "code",
      "source": [
        "a1 = int(input(\"Введите первое число \"))\n",
        "a2 = int(input(\"Введите второе число \"))\n",
        "if a1 > a2:\n",
        "     print(\"Максимум: \", a1, \", минимум: \", a2)\n",
        "else:\n",
        "    print(\"Максимум: \", a2, \", минимум: \", a1)\n",
        "\n",
        "# --------------\n",
        "# Пример вывода:\n",
        "#\n",
        "# Введите первое число: 1\n",
        "# Введите второе число: 2\n",
        "# Максимум: 2, минимум: 1\n",
        "\n",
        "# Введите первое число: 5\n",
        "# Введите второе число: 5\n",
        "# Максимум: 5, минимум: 5\n",
        "\n",
        "# Введите первое число: 100\n",
        "# Введите второе число: -1\n",
        "# Максимум: 100, минимум: -1"
      ],
      "metadata": {
        "id": "1BFBEhh8953V"
      },
      "execution_count": null,
      "outputs": []
    },
    {
      "cell_type": "markdown",
      "source": [
        "№ 4.2.3\n",
        "\n",
        "Вася пытается высунуть голову в форточку размерами a и b см. Приняв условно, что его голова - круглая диаметром d см, определите, сможет ли Вася сделать это. Для прохождения головы в форточку необходим зазор в 1 см. с каждой стороны.\n",
        "\n",
        "Все величины - целые числа."
      ],
      "metadata": {
        "id": "8obu58Qe-B5K"
      }
    },
    {
      "cell_type": "code",
      "source": [
        "a =int(input(\"Ширина форточки: \")) \n",
        "b =int(input(\"Высота форточки: \")) \n",
        "d =int(input(\"Диаметр головы: \")) \n",
        "\n",
        "\n",
        "if ((a or b or d) < 0):\n",
        "  print('Проверьте ввод')\n",
        "  \n",
        "  fix =1\n",
        "else:\n",
        "    if ((a-1>=d) and (b-1>=d)):\n",
        "      print(\"Да\")\n",
        "    else:\n",
        "      print(\"Нет\")\n",
        "\n",
        "    \n",
        "\n",
        "# --------------\n",
        "# Пример вывода:\n",
        "#\n",
        "# Ширина форточки: 5\n",
        "# Высота форточки: 6\n",
        "# Диаметр головы: 6\n",
        "# Нет\n",
        "\n",
        "# Ширина форточки: 6\n",
        "# Высота форточки: 7\n",
        "# Диаметр головы: 4\n",
        "# Да"
      ],
      "metadata": {
        "id": "uOZBh3Ox-Gxe"
      },
      "execution_count": null,
      "outputs": []
    },
    {
      "cell_type": "markdown",
      "source": [
        "№ 4.2.4\n",
        "\n",
        "Известны год и номер месяца сегодняшнего дня, а также год и номер месяца рождения человека (нумерация месяцев с 1: январь - 1 и т.д.). Определите возраст человека (число полных лет)."
      ],
      "metadata": {
        "id": "t1YJi0E_-VKf"
      }
    },
    {
      "cell_type": "code",
      "source": [
        "year_today =int(input(\"Введите текущий год: \"))\n",
        "month_today =int(input(\"Введите текущий месяц: \"))\n",
        "\n",
        "year =int(input(\"Введите год рождения: \"))\n",
        "month =int(input(\"Введите месяц рождения: \"))\n",
        "\n",
        "age =year_today - year\n",
        "\n",
        "if month>month_today:\n",
        "  print(\"Число полных лет: \", age-1)\n",
        "else:\n",
        "  print(\"Число полных лет: \", age)\n",
        "\n",
        "# --------------\n",
        "# Пример вывода:\n",
        "#\n",
        "# Введите текущий год: 2017\n",
        "# Введите текущий месяц: 5\n",
        "# Введите год рождения: 2000\n",
        "# Введите месяц рождения: 1\n",
        "# Число полных лет:  17\n",
        "#\n",
        "# Введите текущий год: 2015\n",
        "# Введите текущий месяц: 6\n",
        "# Введите год рождения: 2010\n",
        "# Введите месяц рождения: 8\n",
        "# Число полных лет:  4\n",
        "#\n",
        "# Введите текущий год: 2020\n",
        "# Введите текущий месяц: 5\n",
        "# Введите год рождения: 2000\n",
        "# Введите месяц рождения: 5\n",
        "# Число полных лет:  20\n"
      ],
      "metadata": {
        "id": "33_bjJmd-Zjj"
      },
      "execution_count": null,
      "outputs": []
    },
    {
      "cell_type": "markdown",
      "source": [
        "№ 4.2.5\n",
        "\n",
        "Дана точка с целыми ненулевыми координатами (x;y). Определить номер четверти координатной плоскости, которой она принадлежит."
      ],
      "metadata": {
        "id": "ynUjVXEi-fQp"
      }
    },
    {
      "cell_type": "code",
      "source": [
        "x =int(input(\"Введите координату х: \"))\n",
        "y =int(input(\"Введите координату у: \"))\n",
        "\n",
        "if (x>0 and y>0):\n",
        "    print(\"1-я четверть\")\n",
        "elif (x<0 and y>0):\n",
        "  print(\"2-я четверть\")\n",
        "elif (x<0 and y<0):\n",
        "  print(\"3-я четверть\")\n",
        "elif (x>0 and y<0):\n",
        "  print(\"4-я четверть\")\n",
        "\n",
        "\n",
        "\n",
        "# --------------\n",
        "# Пример вывода:\n",
        "#\n",
        "# Введите координату x: 5\n",
        "# Введите координату y: 7\n",
        "# 1-я четверть\n"
      ],
      "metadata": {
        "id": "Ui9qWJb_-kgu"
      },
      "execution_count": null,
      "outputs": []
    },
    {
      "cell_type": "markdown",
      "source": [
        "№ 4.2.6\n",
        "\n",
        "Даны вещественные числа a, b, c (a≠0).\n",
        "\n",
        "Решите уравнение ax2+bx+c=0. При выводе значений оставьте 1 знак после запятой."
      ],
      "metadata": {
        "id": "TQPl3LRg-ruj"
      }
    },
    {
      "cell_type": "code",
      "source": [
        "a =float(input(\"Введите значение а: \"))\n",
        "b =float(input(\"Введите значение b: \"))\n",
        "c =float(input(\"Введите значение c: \"))\n",
        "\n",
        "d =((b**2) - (4*a*c))\n",
        "if d<0:\n",
        "  print(\"Решений нет\")\n",
        "elif d>0:\n",
        "  x1=(((-1*b))+(d**(1/2)))/2*a\n",
        "  x2=(((-1*b))-(d**(1/2)))/2*a\n",
        "  print(\"x1 = \", round(x1, 1), \"x2 = \", round(x2, 1))\n",
        "elif d==0:\n",
        "  x=(-1*b)/2*a\n",
        "  print(\"x = \", round(x, 1))\n",
        "\n",
        "\n",
        "# --------------\n",
        "# Пример вывода:\n",
        "#\n",
        "# a = 1\n",
        "# b = 2\n",
        "# c = 3\n",
        "# Решений нет\n",
        "#\n",
        "# a = 1\n",
        "# b = 2\n",
        "# c = 1\n",
        "# x = -1.0\n",
        "#\n",
        "# a = 1\n",
        "# b = 3\n",
        "# c = -4\n",
        "# x1 = -4.0, x2 = 1.0\n"
      ],
      "metadata": {
        "id": "xAlUzi4k-4Dy"
      },
      "execution_count": null,
      "outputs": []
    },
    {
      "cell_type": "markdown",
      "source": [
        "№ 4.2.7\n",
        "\n",
        "Дана непустая последовательность целых чисел, оканчивающаяся нулем. Найти сумму и количество введенных чисел."
      ],
      "metadata": {
        "id": "cOrTjd7G-7-b"
      }
    },
    {
      "cell_type": "code",
      "source": [
        "\n",
        "nums_count = 0  \n",
        "\n",
        "x =int(input())\n",
        "nums_sum = 0  \n",
        "while x != 0:\n",
        "    nums_count = nums_count+1\n",
        "    nums_sum += x\n",
        "    x =int(input())\n",
        "print(\"Cумма = \", nums_sum)\n",
        "print(\"Количество = \", nums_count)\n",
        "\n",
        "# Удалите комментарий и допишите код\n",
        "\n",
        "# --------------\n",
        "# Пример вывода:\n",
        "#\n",
        "# Введите 1-е число: 1\n",
        "# Введите 2-е число: 2\n",
        "# Введите 3-е число: 3\n",
        "# Введите 4-е число: 4\n",
        "# Введите 5-е число: 0\n",
        "# Сумма = 10\n",
        "# Количество = 4\n",
        "#\n",
        "# Введите 1-е число: 0\n",
        "# Сумма = 0\n",
        "# Количество = 0\n"
      ],
      "metadata": {
        "id": "BjcO2eQG_DbN"
      },
      "execution_count": null,
      "outputs": []
    },
    {
      "cell_type": "markdown",
      "source": [
        "№ 4.2.8\n",
        "\n",
        "Дано число n. Из чисел 0,5,10,15,20,25,... напечатать те, которые не превышают n."
      ],
      "metadata": {
        "id": "1QAmy1x7_ZEW"
      }
    },
    {
      "cell_type": "code",
      "source": [
        "n =int(input(\"n= \"))\n",
        "z = 0\n",
        "print('0')\n",
        "\n",
        "while z<=n:\n",
        "    z = z+5\n",
        "    if z<=n:\n",
        "      print(z)\n",
        "    else:\n",
        "      break\n",
        "     \n",
        "      \n",
        "\n",
        "\n",
        "# --------------\n",
        "# Пример вывода:\n",
        "#\n",
        "# n = 0\n",
        "# 0\n",
        "#\n",
        "# n = 10\n",
        "# 0\n",
        "# 5\n",
        "# 10\n",
        "#\n",
        "# n = 12\n",
        "# 0\n",
        "# 5\n",
        "# 10 "
      ],
      "metadata": {
        "id": "dgn91wUA_enr"
      },
      "execution_count": null,
      "outputs": []
    },
    {
      "cell_type": "markdown",
      "source": [
        "№ 4.2.9\n",
        "\n",
        "Дано вещественное число a. Найдите наименьшее натуральное n, для которого верно\n",
        "\n",
        "![image.png](data:image/png;base64,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)"
      ],
      "metadata": {
        "id": "SuKBPXF8_82e"
      }
    },
    {
      "cell_type": "code",
      "source": [
        "a =float(input(\"a= \"))\n",
        "\n",
        "n = 1\n",
        "x_sum = 0.00\n",
        "while x_sum <=a:\n",
        "  x_sum += 1 / n\n",
        "  n += 1\n",
        "print(n-1)\n",
        "\n",
        "\n",
        "\n",
        "# --------------\n",
        "# Пример вывода:\n",
        "#\n",
        "# a = 1.5\n",
        "# n = 3\n",
        "#\n",
        "# a = 2\n",
        "# n = 4\n"
      ],
      "metadata": {
        "id": "7nr0GDl0AMLJ"
      },
      "execution_count": null,
      "outputs": []
    },
    {
      "cell_type": "markdown",
      "source": [
        "№ 4.2.10\n",
        "\n",
        "Дано натуральное число. Определите сумму и количество его цифр."
      ],
      "metadata": {
        "id": "OpMJBd6NAcMP"
      }
    },
    {
      "cell_type": "code",
      "source": [
        "n =int(input(\"n= \"))\n",
        "print(\"Cумма = \", n_sum)\n",
        "\n",
        "n_count =[]\n",
        "while n>10:\n",
        "  g=n%10\n",
        "  n_count.append(g)\n",
        "  n=n-g\n",
        "  n=n/10\n",
        "n_count.append(n)\n",
        "print(\"Количество= \", len(n_count))\n",
        "\n",
        "# --------------\n",
        "# Пример вывода:\n",
        "#\n",
        "# n = 12345\n",
        "# Сумма = 15\n",
        "# Количество = 5"
      ],
      "metadata": {
        "id": "7ZD_pKb6AhgI"
      },
      "execution_count": null,
      "outputs": []
    },
    {
      "cell_type": "markdown",
      "source": [
        "№ 4.2.11\n",
        "\n",
        "Вывести в строку 10 первых натуральных чисел, оканчивающихся на цифру k, кратных числу s и находящихся в интервале, левая граница которого равна start."
      ],
      "metadata": {
        "id": "P5bgMYrKAwPU"
      }
    },
    {
      "cell_type": "code",
      "source": [
        "start = int(input(\"start= \")) \n",
        "k = int(input(\"k= \")) \n",
        "s = int(input(\"s= \")) \n",
        "\n",
        "need = list()\n",
        "\n",
        "while start%s!=0: \n",
        "    start += 1\n",
        "else:\n",
        "    for i in range(99):\n",
        "        start += 1\n",
        "        while start%s!=0:\n",
        "            start += 1\n",
        "        else:\n",
        "            if start%10==k:\n",
        "                need.append(start)\n",
        "\n",
        "print(need[:10])\n",
        "\n",
        "# --------------\n",
        "# Пример вывода:\n",
        "#\n",
        "# start = 100\n",
        "# k = 7\n",
        "# s = 9\n",
        "# 117 207 297 387 477 567 657 747 837 927\n"
      ],
      "metadata": {
        "id": "BkcfGcpnA0ky"
      },
      "execution_count": null,
      "outputs": []
    },
    {
      "cell_type": "markdown",
      "source": [
        "№ 4.2.12\n",
        "\n",
        "Даны целые числа a и b (a может быть больше b). Напечатайте:\n",
        "\n",
        "числа от минимального до максимального в строчку (разделяя пробелом);\n",
        "\n",
        "числа от максимального до минимального «столбиком»."
      ],
      "metadata": {
        "id": "y_IbR3vjA3-E"
      }
    },
    {
      "cell_type": "code",
      "source": [
        "a =int(input(\"a= \"))\n",
        "b =int(input(\"b= \"))\n",
        "need_1 =(range(a,b+1,1))\n",
        "print(need_1)\n",
        "need_1.reverse()\n",
        "print(\"\\n\".join(map(str, need_1)))\n",
        "# --------------\n",
        "# Пример вывода:\n",
        "#\n",
        "# a = 1\n",
        "# b = 5\n",
        "# 1 2 3 4 5\n",
        "# 5\n",
        "# 4\n",
        "# 3\n",
        "# 2\n",
        "# 1\n"
      ],
      "metadata": {
        "id": "wZootDbpA_Rw"
      },
      "execution_count": null,
      "outputs": []
    },
    {
      "cell_type": "markdown",
      "source": [
        "№ 4.2.13\n",
        "\n",
        "Для введенных с клавиатуры положительных целых чисел a и b (a≤b) определите:\n",
        "\n",
        "сумму всех целых чисел от a до b;\n",
        "\n",
        "произведение всех целых чисел от a до b;\n",
        "\n",
        "среднее арифметическое всех целых чисел от a до b;\n",
        "\n",
        "среднее геометрическое нечетных чисел от a до b.\n",
        "\n",
        "Отрезок поиска включает сами числа a и b. При выводе вещественных результатов оставьте два знака после запятой."
      ],
      "metadata": {
        "id": "5TC0UhL5BCYo"
      }
    },
    {
      "cell_type": "code",
      "source": [
        "a = int(input('Введите первое число: '))\n",
        "b = int(input('Введите второе число: '))\n",
        "name=[]\n",
        "if (a>b):\n",
        "  print(\"Не соответствует условию задачи\")\n",
        "else:\n",
        "  while (a<=b):\n",
        "    name.append(a)\n",
        "    a=a+1\n",
        "  sum_name=sum(name)\n",
        "  print(\"Сумма\" , sum_name)\n",
        "  name_mult=1\n",
        "  a=0\n",
        "  while a<(len(name)):\n",
        "    name_mult=name_mult*name[a]\n",
        "    a=a+1\n",
        "  name_medium=sum_name/len(name)\n",
        "  print(\"Среднее арифмиетическое\" , name_medium)\n",
        "  print(\"Произведение\" , name_mult)\n",
        "  b = 0\n",
        "  k = 0\n",
        "  name_geom = 1\n",
        "  while b<len(name):\n",
        "    if name[b]%2==1:\n",
        "        name_geom = name_geom*name[b]\n",
        "        b = b + 2\n",
        "        k = k + 1\n",
        "    else:\n",
        "        b = b + 1\n",
        "  \n",
        "  name_geom = round((name_geom**(1/k)),2)\n",
        "  print(\"Среднее геометрическое нечетных чисел = \", name_geom)\n",
        "\n",
        "# --------------\n",
        "# Пример вывода:\n",
        "#\n",
        "# a = 1\n",
        "# b = 5\n",
        "# Сумма = 15\n",
        "# Произведение = 120\n",
        "# Среднее арифметическое = 3.00\n",
        "# Среднее геометрическое нечетных чисел = 2.47"
      ],
      "metadata": {
        "id": "jTvonDhbBNAb"
      },
      "execution_count": null,
      "outputs": []
    },
    {
      "cell_type": "markdown",
      "source": [
        "№ 4.2.14\n",
        "\n",
        "Начав тренировки, лыжник в первый день пробежал s км. (s>0, вещественное число). Каждый следующий день он увеличивал пробег на p % (0<p≤100, вещественное число) от пробега предыдущего дня. Определите:\n",
        "\n",
        "пробег лыжника за второй, третий, …, десятый день тренировок;\n",
        "\n",
        "какой суммарный путь он пробежал за первые 10 дней тренировок.\n",
        "\n",
        "При выводе вещественных результатов оставьте один знак после запятой."
      ],
      "metadata": {
        "id": "1FB2fO26BRCW"
      }
    },
    {
      "cell_type": "code",
      "source": [
        "s=float(input(\"введите длину пробега лыжника \"))\n",
        "p=float(input(\"введите % увеличения пробега \"))\n",
        "name=[]\n",
        "a=1\n",
        "while a<=10:\n",
        "  name.append(s)\n",
        "  s = s*(1+(p/100))\n",
        "  s=round(s,1)\n",
        "  a=a+1\n",
        "print(\"пробег за каждый день\" , name)\n",
        "name_sum=round(sum(name),1)\n",
        "print(\"Суммарный пробег:\" , name_sum)\n",
        "\n",
        "# --------------\n",
        "# Пример вывода:\n",
        "#\n",
        "# Пробег за 1-й день (км.) = 5\n",
        "# На сколько увеличивает пробег (%) = 10\n",
        "# Пробег за 2-й день: 5.5 км.\n",
        "# Пробег за 3-й день: 6.1 км.\n",
        "# Пробег за 4-й день: 6.7 км.\n",
        "# Пробег за 5-й день: 7.3 км.\n",
        "# Пробег за 6-й день: 8.1 км.\n",
        "# Пробег за 7-й день: 8.9 км.\n",
        "# Пробег за 8-й день: 9.7 км.\n",
        "# Пробег за 9-й день: 10.7 км.\n",
        "# Пробег за 10-й день: 11.8 км.\n",
        "# Суммарный пробег: 79.7 км."
      ],
      "metadata": {
        "id": "jjbfOB0iBkdm"
      },
      "execution_count": null,
      "outputs": []
    },
    {
      "cell_type": "markdown",
      "source": [
        "№ 4.2.15\n",
        "\n",
        "Известна масса каждого предмета в кг., загружаемого в грузовик. Определить, возможна ли перевозка груза, если грузоподъемность грузовика равна p кг."
      ],
      "metadata": {
        "id": "4XlkcuDUBowQ"
      }
    },
    {
      "cell_type": "code",
      "source": [
        "n=float(input(\"введите массу 1-го предмета \"))\n",
        "p=float(input(\"введите грузоподъёмность грузовика \"))\n",
        "name=[n]\n",
        "if n<=0:\n",
        "  print(\"ошибка\")\n",
        "else:\n",
        "  while (n!=0):\n",
        "    n=float(input(\"введите массу другого предмета, для прекращения ввода введите 0 \"))\n",
        "    name.append(n)\n",
        "  sum_name=sum(name)\n",
        "  if(sum_name<=p):\n",
        "    print(\"Да,возможна\")\n",
        "  else:\n",
        "    \n",
        "    print(\"Нет, невозможна\")\n",
        "\n",
        "\n",
        "# --------------\n",
        "# Пример вывода:\n",
        "#\n",
        "# Грузоподъемность грузовика (кг.) = 10\n",
        "# Количество предметов = 2\n",
        "# Масса 1-го предмета (кг.) = 3\n",
        "# Масса 2-го предмета (кг.) = 3\n",
        "# Да\n"
      ],
      "metadata": {
        "id": "gQEhCXFoBwK2"
      },
      "execution_count": null,
      "outputs": []
    },
    {
      "cell_type": "markdown",
      "source": [
        "№ 4.2.16\n",
        "\n",
        "В области несколько районов. Заданы площади, засеваемые пшеницей (га.), и средняя урожайность (ц/га) в каждом районе.\n",
        "\n",
        "Определите количество пшеницы, собранное по области. При выводе вещественных результатов оставьте один знак после запятой."
      ],
      "metadata": {
        "id": "S6HPx0xMB0xs"
      }
    },
    {
      "cell_type": "code",
      "source": [
        "n = int(input('Введите количество районов: '))\n",
        "name=[]\n",
        "for i in range(n):\n",
        "  a = float(input(\"введите площадь района (га) \"))\n",
        "  b = float(input(\"введите урожайность в районе (ц/га.) \")) \n",
        "  f = a*b\n",
        "  name.append(f)\n",
        "print(round(sum(name), 1))\n",
        "# Пример вывода:\n",
        "#\n",
        "# Количество районов = 3\n",
        "# Площадь 1-го района (га) = 4\n",
        "# Урожайность в 1-м районе (ц/га.) = 2\n",
        "# Площадь 2-го района (га) = 7\n",
        "# Урожайность в 2-м районе (ц/га.) = 3\n",
        "# Площадь 3-го района (га) = 9\n",
        "# Урожайность в 3-м районе (ц/га.) = 4\n",
        "# Собрано пшеницы: 65.0 ц.\n"
      ],
      "metadata": {
        "id": "VXbsSb_rB5kM"
      },
      "execution_count": null,
      "outputs": []
    },
    {
      "cell_type": "markdown",
      "source": [
        "№ 4.2.17\n",
        "\n",
        "Решите задачу № 4.2.7, организовав бесконечный цикл, который бы прерывался при выполнении условия, используя оператор break. № 4.2.7\n",
        "\n",
        "Дана непустая последовательность целых чисел, оканчивающаяся нулем. Найти сумму и количество введенных чисел."
      ],
      "metadata": {
        "id": "UwImeqjOB-YH"
      }
    },
    {
      "cell_type": "code",
      "source": [
        "nums_count = 0\n",
        "nums_sum = 0\n",
        "x=int(input(\"введите 1-е число: \"))\n",
        "while (x!=0):\n",
        "  nums_count = nums_count+1\n",
        "  nums_sum=nums_sum+x\n",
        "  x=int(input(\"введите новoе число: \"))\n",
        "  if (x==0):\n",
        "    break\n",
        "print (\"Сумма= \", nums_sum)\n",
        "print (\"Количество= \", nums_count)\n",
        "# Пример вывода:\n",
        "#\n",
        "# Введите 1-е число: 1\n",
        "# Введите 2-е число: 2\n",
        "# Введите 3-е число: 3\n",
        "# Введите 4-е число: 4\n",
        "# Введите 5-е число: 0\n",
        "# Сумма = 10\n",
        "# Количество = 4\n",
        "#\n",
        "# Введите 1-е число: 0\n",
        "# Сумма = 0\n",
        "# Количество = 0"
      ],
      "metadata": {
        "id": "q039tQRmCDN5"
      },
      "execution_count": null,
      "outputs": []
    },
    {
      "cell_type": "markdown",
      "source": [
        "№ 4.2.18\n",
        "\n",
        "Предложение, введенное с клавиатуры, содержит слова из гласных и согласных букв кириллицы (регистр может быть различный), а также пробелы.\n",
        "\n",
        "Определите количество гласных и согласных букв в предложении. Для пропуска пробелов используйте оператор continue."
      ],
      "metadata": {
        "id": "AwwcQRlGCG7G"
      }
    },
    {
      "cell_type": "code",
      "source": [
        "sentence = input(\"введите предложение\")\n",
        "gl = 0  \n",
        "sogl = 0  \n",
        "b=0\n",
        "for x in sentence: \n",
        "    a = x.lower()\n",
        "    if a == \"а\" or a == \"я\" or a == \"у\" or a == \"ю\" or a == \"о\" or a == \"е\" or a == \"ё\" or a == \"э\" or a == \"и\" or a == \"ы\":\n",
        "        gl = gl +1\n",
        "    elif  (a==\" \") :\n",
        "      b=b+0\n",
        "    else:\n",
        "      sogl=sogl+1\n",
        "print(\"Гласных\" , gl , \"Согласных\" , sogl)\n",
        "\n",
        "# --------------\n",
        "# Пример вывода:\n",
        "#\n",
        "# Введите предложение: Программирование\n",
        "# Кол-во букв в предложении: гласных - 7, согласных - 9\n"
      ],
      "metadata": {
        "id": "8R3QoLS2CL2A"
      },
      "execution_count": null,
      "outputs": []
    },
    {
      "cell_type": "markdown",
      "source": [
        "№ 4.2.19\n",
        "\n",
        "Выведите на экран (в строку) все целые числа от a до b, кратные некоторому числу c."
      ],
      "metadata": {
        "id": "sdxcOgbJCO8v"
      }
    },
    {
      "cell_type": "code",
      "source": [
        "a=int(input(\"введите первое число\"))\n",
        "b=int(input(\"введите второе число\"))\n",
        "c=int(input(\"введите число, котророму будут кратны все числа списка\"))\n",
        "name=[]\n",
        "name_k=[]\n",
        "if (a>b):\n",
        "  while (b<=a):\n",
        "    name.append(b)\n",
        "    b=b+1\n",
        "else:\n",
        "  while (a<=b):\n",
        "    name.append(a)\n",
        "    a=a+1\n",
        "for i in name:\n",
        "  if (i%c==0):\n",
        "    name_k.append(i)\n",
        "print(name_k)\n",
        "# --------------\n",
        "# Пример вывода:\n",
        "#\n",
        "# a = 1\n",
        "# b = 10\n",
        "# c = 2\n",
        "# 2 4 6 8 10"
      ],
      "metadata": {
        "id": "p0P_61mlCTqS"
      },
      "execution_count": null,
      "outputs": []
    },
    {
      "cell_type": "markdown",
      "source": [
        "№ 4.2.20\n",
        "\n",
        "Выведите на экран (в строку) все трехзначные натуральные числа, сумма цифр которых равна целому числу n (0<n≤27)."
      ],
      "metadata": {
        "id": "dIrrwxm6CXOg"
      }
    },
    {
      "cell_type": "code",
      "source": [
        "n=int(input(\"введите целое число от 0 до 27\"))\n",
        "name=[]\n",
        "for x in range(100,1000):\n",
        "  a=(x//100)\n",
        "  b=((x%100)//10)\n",
        "  c=(x%10)\n",
        "  sum=(a+b+c)\n",
        "  if (sum==n):\n",
        "    name.append(x)\n",
        "print(name)\n",
        "# Пример вывода:\n",
        "#\n",
        "# n = 3\n",
        "# 102 111 120 201 210 300"
      ],
      "metadata": {
        "id": "EZzYfScgCbhZ"
      },
      "execution_count": null,
      "outputs": []
    },
    {
      "cell_type": "markdown",
      "source": [
        "№ 4.2.21\n",
        "\n",
        "Известно количество учеников в классе и их рост (см.); рост мальчиков условно задан отрицательными числами. Определите средний рост мальчиков и средний рост девочек.\n",
        "\n",
        "При выводе вещественных результатов оставьте один знак после запятой."
      ],
      "metadata": {
        "id": "exLsoPCuCgTE"
      }
    },
    {
      "cell_type": "code",
      "source": [
        "n=int(input(\"введите количество учеников в классе\"))\n",
        "name=[]\n",
        "boys=[]\n",
        "girls=[]\n",
        "for x in range(n):\n",
        "  x=float(input(\"введите рост ученика(если это мальчик, то поставьте перед числом -\"))\n",
        "  name.append(x)\n",
        "for x in name:\n",
        "  if (x<0):\n",
        "    boys.append(x)\n",
        "  else:\n",
        "    girls.append(x)\n",
        "medium_boys=(sum(boys)/len(boys))*(-1)\n",
        "medium_girls=sum(girls)/len(girls)\n",
        "print(medium_boys)\n",
        "print(medium_girls)\n",
        "# --------------\n",
        "# Пример вывода:\n",
        "#\n",
        "# n = 5\n",
        "# Рост 1-го ученика = 150\n",
        "# Рост 2-го ученика = -150\n",
        "# Рост 3-го ученика = 160\n",
        "# Рост 4-го ученика = 170\n",
        "# Рост 5-го ученика = 180\n",
        "# Средний рост мальчиков: 150.0\n",
        "# Средний рост девочек: 165.0"
      ],
      "metadata": {
        "id": "UNNA70ZUCi5T"
      },
      "execution_count": null,
      "outputs": []
    }
  ]
}