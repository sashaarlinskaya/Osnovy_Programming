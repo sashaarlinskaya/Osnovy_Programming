{
  "nbformat": 4,
  "nbformat_minor": 0,
  "metadata": {
    "colab": {
      "provenance": [],
      "authorship_tag": "ABX9TyOg80Q6UiCWxtl/aA3G52Tc",
      "include_colab_link": true
    },
    "kernelspec": {
      "name": "python3",
      "display_name": "Python 3"
    },
    "language_info": {
      "name": "python"
    }
  },
  "cells": [
    {
      "cell_type": "markdown",
      "metadata": {
        "id": "view-in-github",
        "colab_type": "text"
      },
      "source": [
        "<a href=\"https://colab.research.google.com/github/sashaarlinskaya/Osnovy_Programming/blob/main/%D0%9F%D1%80%D0%B0%D0%BA%D1%82%D0%B8%D0%BA%D0%B0_21_02_23.ipynb\" target=\"_parent\"><img src=\"https://colab.research.google.com/assets/colab-badge.svg\" alt=\"Open In Colab\"/></a>"
      ]
    },
    {
      "cell_type": "code",
      "execution_count": 4,
      "metadata": {
        "colab": {
          "base_uri": "https://localhost:8080/"
        },
        "id": "DiXrL9fQtoo-",
        "outputId": "f44fe565-832a-4356-c3be-9eb095d704c9"
      },
      "outputs": [
        {
          "output_type": "stream",
          "name": "stdout",
          "text": [
            "Dividing: 100 \n"
          ]
        }
      ],
      "source": [
        "class A():\n",
        "\n",
        "\n",
        "  __a = float()\n",
        "  __b = float()\n",
        "  def __init__(self, __a, __b):\n",
        "      self.a = __a\n",
        "      self.b = __b\n",
        "\n",
        "  def divide(self):\n",
        "\n",
        "      c = self.a * self.b\n",
        "      return c\n",
        "\n",
        "  def reduce(self):\n",
        "      \n",
        "      c = self.a - self.b\n",
        "      return c \n",
        "\n",
        "  def __del__(self):\n",
        "    print(\"Process deleted.\")\n",
        "\n",
        "c1 = A(20, 5)\n",
        "print(f\"Dividing: {c1.divide()} \")"
      ]
    },
    {
      "cell_type": "code",
      "source": [
        "class Program():\n",
        "    \"\"\"\n",
        "    Class that calling class \"A()\"\n",
        "    \"\"\"\n",
        "    def __init__(self):\n",
        "        c2 = A(20, 5)\n",
        "        print(c2.divide())\n",
        "        print(c2.reduce())\n",
        "\n",
        "if __name__ == \"__main__\":\n",
        "    f1 = Program()\n",
        "    del f1"
      ],
      "metadata": {
        "colab": {
          "base_uri": "https://localhost:8080/"
        },
        "id": "LhGLjdrExbib",
        "outputId": "72726f29-9e94-4f5f-d873-2dd788477097"
      },
      "execution_count": 5,
      "outputs": [
        {
          "output_type": "stream",
          "name": "stdout",
          "text": [
            "100\n",
            "15\n",
            "Process deleted.\n"
          ]
        }
      ]
    }
  ]
}