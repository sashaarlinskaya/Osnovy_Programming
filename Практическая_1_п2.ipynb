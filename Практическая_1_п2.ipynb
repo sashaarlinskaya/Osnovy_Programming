{
  "nbformat": 4,
  "nbformat_minor": 0,
  "metadata": {
    "colab": {
      "provenance": [],
      "authorship_tag": "ABX9TyOXDoKJLGWbPiHYoY0nBFqt",
      "include_colab_link": true
    },
    "kernelspec": {
      "name": "python3",
      "display_name": "Python 3"
    },
    "language_info": {
      "name": "python"
    }
  },
  "cells": [
    {
      "cell_type": "markdown",
      "metadata": {
        "id": "view-in-github",
        "colab_type": "text"
      },
      "source": [
        "<a href=\"https://colab.research.google.com/github/sashaarlinskaya/Osnovy_Programming/blob/OP/%D0%9F%D1%80%D0%B0%D0%BA%D1%82%D0%B8%D1%87%D0%B5%D1%81%D0%BA%D0%B0%D1%8F_1_%D0%BF2.ipynb\" target=\"_parent\"><img src=\"https://colab.research.google.com/assets/colab-badge.svg\" alt=\"Open In Colab\"/></a>"
      ]
    },
    {
      "cell_type": "markdown",
      "source": [
        "1.2.1 Создание новых экземпляров объектов класса может быть отличным\n",
        "способом отслеживания значений с помощью атрибутов, связанных с\n",
        "объектом. Значения этих атрибутов можно легко изменить на уровне объекта.\n",
        "Следующий код иллюстрирует знаменитую цитату Джорджа Бернарда Шоу,\n",
        "в которой объекты используются для представления людей. Заполните\n",
        "пробелы, чтобы код соответствовал поведению, описанному в цитате ниже\n",
        "Фрагмент кода программы:\n",
        "# “Если у тебя есть яблоко, а у меня есть яблоко, и мы\n",
        "# обменяемся этими яблоками, тогда\n",
        "# у нас с тобой по-прежнему будет по одному яблоку. Но если у\n",
        "# вас есть идея, а у меня есть\n",
        "# идея, и мы обмениваемся этими идеями, тогда у каждого из нас\n",
        "# будет по две идеи”.\n",
        "# Джордж Бернард Шоу"
      ],
      "metadata": {
        "id": "ETAdx5MG8-md"
      }
    },
    {
      "cell_type": "code",
      "source": [
        "\n",
        "class Person:\n",
        "  apples = 0\n",
        "  ideas = 0\n",
        "johanna = Person()\n",
        "johanna.apples = 1\n",
        "johanna.ideas = 1\n",
        "\n",
        "martin = Person()\n",
        "martin.apples = 2\n",
        "martin.ideas = 1\n",
        "def exchange_apples(you, me):\n",
        "  a = you.apples          \n",
        "  you.apples = me.apples     \n",
        "  me.apples = a\n",
        "  return you.apples, me.apples\n",
        "def exchange_ideas(you, me):\n",
        "  b=you.ideas+me.ideas\n",
        "  you.ideas = b\n",
        "  me.ideas = b\n",
        "  return you.ideas, me.ideas\n",
        "exchange_apples(johanna, martin)\n",
        "print(\"Johanna has {} apples and Martin has {} apples\".format(johanna.apples, martin.apples))\n",
        "exchange_ideas(johanna, martin)\n",
        "print(\"Johanna has {} ideas and Martin has {} ideas\".format(johanna.ideas, martin.ideas))"
      ],
      "metadata": {
        "colab": {
          "base_uri": "https://localhost:8080/"
        },
        "id": "QI_Ag5lv9pTh",
        "outputId": "0f2afeef-64bc-4f92-8545-b7c285ae2f88"
      },
      "execution_count": 1,
      "outputs": [
        {
          "output_type": "stream",
          "name": "stdout",
          "text": [
            "Johanna has 2 apples and Martin has 1 apples\n",
            "Johanna has 2 ideas and Martin has 2 ideas\n"
          ]
        }
      ]
    },
    {
      "cell_type": "markdown",
      "source": [
        "1.2.2 Класс City имеет следующие атрибуты: имя, страна (где расположен город),\n",
        "высота (измеряется в метрах) и население (приблизительно, согласно недавней\n",
        "статистике). Заполните пробелы в функции max_elevation_city, чтобы вернуть\n",
        "название города и его страну (разделенные запятой) при сравнении трех\n",
        "определенных экземпляров для указанной минимальной численности населения.\n",
        "Например, вызов функции для минимального населения в 1 миллион:\n",
        "max_elevation_city (1000000) должен вернуть «София, Болгария». \n"
      ],
      "metadata": {
        "id": "Ww2xa1Ko-EL_"
      }
    },
    {
      "cell_type": "code",
      "source": [
        "class City:\n",
        " name = \"\"\n",
        " country = \"\"\n",
        " elevation = 0\n",
        " population = 0\n",
        "\n",
        "city1 = City()\n",
        "city1.name = \"Cusco\"\n",
        "city1.country = \"Peru\"\n",
        "city1.elevation = 3399\n",
        "city1.population = 358052\n",
        "\n",
        "city2 = City()\n",
        "city2.name = \"Sofia\"\n",
        "city2.country = \"Bulgaria\"\n",
        "city2.elevation = 2290\n",
        "city2.population = 1241675\n",
        "\n",
        "city3 = City()\n",
        "city3.name = \"Seoul\"\n",
        "city3.country = \"South Korea\"\n",
        "city3.elevation = 38\n",
        "city3.population = 9733509\n",
        "\n",
        "def max_elevation_city(min_population):\n",
        "  return_city = City()\n",
        "  if city1.population >= min_population:\n",
        "    return_city = city1\n",
        "  if city2.population >= min_population and city2.elevation > return_city.elevation:\n",
        "    return_city = city2\n",
        "  if city3.population >= min_population and city3.elevation > return_city.elevation:\n",
        "    return_city = city3\n",
        "  if return_city.name:\n",
        "    return \"{}, {}\".format(return_city.name, return_city.country)  # иначе будет следующий вывод: ('Sofia', 'Bulgaria')\n",
        "  else:\n",
        "    return \"\"\n",
        "print(max_elevation_city(100000)) \n",
        "print(max_elevation_city(1000000))\n",
        "print(max_elevation_city(10000000)) "
      ],
      "metadata": {
        "colab": {
          "base_uri": "https://localhost:8080/"
        },
        "id": "NSkvmjke-KDm",
        "outputId": "60528295-0dfd-4452-f4c3-6fa60c467650"
      },
      "execution_count": 2,
      "outputs": [
        {
          "output_type": "stream",
          "name": "stdout",
          "text": [
            "Cusco, Peru\n",
            "Sofia, Bulgaria\n",
            "\n"
          ]
        }
      ]
    },
    {
      "cell_type": "markdown",
      "source": [
        "У нас есть два предмета мебели: коричневый деревянный стол и красный\n",
        "кожаный диван. Заполните пустые поля после создания каждого\n",
        "экземпляра класса Furniture, чтобы функция describe_furniture могла\n",
        "отформатировать предложение, описывающее эти элементы, следующим\n",
        "образом: «Этот предмет мебели изготовлен из {color} {material}». "
      ],
      "metadata": {
        "id": "f8vBa_hy-SKo"
      }
    },
    {
      "cell_type": "code",
      "source": [
        "class Furniture:\n",
        "  color = \"\"\n",
        "  material = \"\"\n",
        "\n",
        "table = Furniture()\n",
        "table.color = \"коричневый\" \n",
        "table.material = \"дерево\" \n",
        "\n",
        "couch = Furniture()\n",
        "couch.color = \"красный\" \n",
        "couch.material = \"кожа\" \n",
        "\n",
        "def describe_furniture(piece):\n",
        "  return (\"Этот предмет мебели изготовлен из {} {}\".format(piece.color, piece.material))\n",
        "print(describe_furniture(table))\n",
        "print(describe_furniture(couch))\n"
      ],
      "metadata": {
        "id": "E9aiTTAZ_ApF"
      },
      "execution_count": null,
      "outputs": []
    }
  ]
}