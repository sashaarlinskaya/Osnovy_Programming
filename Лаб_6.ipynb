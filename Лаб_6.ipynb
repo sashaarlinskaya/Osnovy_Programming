{
  "nbformat": 4,
  "nbformat_minor": 0,
  "metadata": {
    "colab": {
      "provenance": [],
      "authorship_tag": "ABX9TyNvomp5Tz2tERl8hYc6hpsi",
      "include_colab_link": true
    },
    "kernelspec": {
      "name": "python3",
      "display_name": "Python 3"
    },
    "language_info": {
      "name": "python"
    }
  },
  "cells": [
    {
      "cell_type": "markdown",
      "metadata": {
        "id": "view-in-github",
        "colab_type": "text"
      },
      "source": [
        "<a href=\"https://colab.research.google.com/github/sashaarlinskaya/Osnovy_Programming/blob/main/%D0%9B%D0%B0%D0%B1_6.ipynb\" target=\"_parent\"><img src=\"https://colab.research.google.com/assets/colab-badge.svg\" alt=\"Open In Colab\"/></a>"
      ]
    },
    {
      "cell_type": "markdown",
      "source": [
        "# Программирование на языке высокого уровня (Python).\n",
        "# https://www.yuripetrov.ru/edu/python\n",
        "# Задание task_06_02_01.\n",
        "#\n",
        "# Выполнил: Арлинская Александра Викторовна\n",
        "# Группа: АДЭУ-221\n",
        "# E-mail: ArlinskayAV323@mgpu.ru\n"
      ],
      "metadata": {
        "id": "2wQfrIEsCKeX"
      }
    },
    {
      "cell_type": "markdown",
      "source": [
        "6.2.1. Оценка сложности алгоритмов\n",
        "Для задач 6.2.1-6.2.7 ответьте на следующие вопросы:\n",
        "\n",
        "Что выполняет приведенная функция?\n",
        "\n",
        "Какова вычислительная сложность алгоритма (наихудшая оценка, O-нотацию)?\n",
        "\n",
        "Ответы необходимо указать в строке документации с пометкой «Алгоритм» и «Сложность» соответственно. Сложность - один из вариантов:\n",
        "\n",
        "O(1), O(N), O(log(N)), O(N log(N)) или O(N^2).\n",
        "считая, что N - размер входных данных."
      ],
      "metadata": {
        "id": "ZUOp1tZSCX8R"
      }
    },
    {
      "cell_type": "code",
      "execution_count": null,
      "metadata": {
        "colab": {
          "base_uri": "https://localhost:8080/"
        },
        "id": "ILRrceVoCIMh",
        "outputId": "a7689ef7-e364-4ee0-9976-0ca48d7bc713"
      },
      "outputs": [
        {
          "output_type": "execute_result",
          "data": {
            "text/plain": [
              "[-2, -2, -2, 1, 1, 2, 2, 2, 2, 2, 3, 3, 3, 4, 4, 5, 65]"
            ]
          },
          "metadata": {},
          "execution_count": 1
        }
      ],
      "source": [
        "def foo(a):\n",
        "    \"\"\"!!!\n",
        "\n",
        "    Сложность: O(N)**2\n",
        "    \"\"\"\n",
        "    #N=len(a)\n",
        "    for i in range(len(a), 0, -1): #O(N)+O(1)=O(N)\n",
        "        for j in range(1, i):#O(N)\n",
        "            if a[j-1] > a[j]:#2O(1)=O(1)\n",
        "                a[j-1], a[j] = a[j], a[j-1] #O(1)+O(1)=2O(1)=O(1)\n",
        "    return a#O(1)\n",
        "\n",
        "#O(N)**2+O(1)+O(1)+O(1)+O(1)=O(N)**2\n",
        "a = [1, 2, 3, 4, 2, 1, 3, 4, 3, 5, -2, -2, 2, -2, 65, 2, 2]\n",
        "foo(a)\n"
      ]
    },
    {
      "cell_type": "code",
      "source": [
        "def foo(i):\n",
        "    \"\"\"N=1\n",
        "\n",
        "    Параметры:\n",
        "        - i (int): число.\n",
        "\n",
        "    Сложность: #O(N)\n",
        "    \"\"\"\n",
        "    digits = \"0123456789\"    #O(1)\n",
        "    if i == 0:    #O(1)+O(1)=2O(1)=O(1)\n",
        "        return \"0\"#O(1)\n",
        "    result = \"\"#O(1)\n",
        "    while i > 0: #O(N)+O(1)=O(N)\n",
        "        result = digits[i%10] + result #O(1)+O(1)+O(1)=3O(1)=O(1)\n",
        "        i = i // 10   #O(1)+O(1)=2O(1)=O(1)\n",
        "    return result#O(1)\n",
        "\n",
        "#O(1)+#O(1)+#O(1)+#O(1)+#O(1)+#O(1)+#O(1)+#O(1)+#O(1)+#O(N)=O(N))"
      ],
      "metadata": {
        "id": "I3PExUZ-Crk8"
      },
      "execution_count": null,
      "outputs": []
    },
    {
      "cell_type": "code",
      "source": [
        "def foo(s):\n",
        "  #O(len(s))=O(N)\n",
        "    \"\"\"!!!\n",
        "\n",
        "    Параметры:\n",
        "        - s (str): строка.\n",
        "\n",
        "    Сложность: #O(N)**2\"\n",
        "    \"\"\"\n",
        "    val = 0 #O(1)\n",
        "    for c in s: #O(N)\n",
        "        if c.isdigit():#O(N)\n",
        "            val += int(c)#O(1)+O(1)=2O(1)=O(1)\n",
        "    return val#O(1)\n",
        "#O(1)+O(N)**2+O(1)+O(1)=O(N)**2"
      ],
      "metadata": {
        "id": "yeGBBwLIDOYp"
      },
      "execution_count": null,
      "outputs": []
    },
    {
      "cell_type": "code",
      "source": [
        "def foo(n):\n",
        "    \"\"\"\n",
        "\n",
        "    Параметры:\n",
        "        - n (int): число.\n",
        "\n",
        "    Сложность: #O(N)**2\"\n",
        "    \"\"\"\n",
        "    res = []#O(1)\n",
        "    for i in range(1, n + 1):#O(N)+O(1)=O(N)\n",
        "        divisors = 0#O(1)\n",
        "        j = 2#O(1)\n",
        "        while j < i and divisors == 0:#O(1)+O(1)+O(N)=O(N)\n",
        "            if i % j == 0:#O(1)+O(1)=2O(1)=O(1)\n",
        "                divisors += 1#O(1)\n",
        "            j += 1#O(1)\n",
        "\n",
        "        if divisors == 0:#O(1)\n",
        "            res.append(i)#O(1)\n",
        "\n",
        "    return res#O(1)\n",
        "\n",
        "# O(1) + O(N) * (2*O(1) + O(N) * 2*O(1) * O(1)) = O(N**2)"
      ],
      "metadata": {
        "id": "yvWwUL1bDVly"
      },
      "execution_count": null,
      "outputs": []
    },
    {
      "cell_type": "code",
      "source": [
        "def foo(nums):\n",
        "    \"\"\"!!!\n",
        "\n",
        "    Параметры:\n",
        "        - nums (list): список.\n",
        "\n",
        " N = len(nums)\n",
        "  Сложность: O(N)\n",
        "  \"\"\"\n",
        "    for x in nums: # O(N)\n",
        "       if x % 2 == 0: # O(1) + O(1) = 2*O(1) = O(1)\n",
        "        return True # O(1)\n",
        "       else:\n",
        "        return False # O(1)\n",
        "\n",
        "# O(N) * O(1) * O(1) = O(N)"
      ],
      "metadata": {
        "id": "WO_gF7rRDet5"
      },
      "execution_count": null,
      "outputs": []
    },
    {
      "cell_type": "code",
      "source": [
        "def foo(nums):\n",
        "    \"\"\"!!!\n",
        "\n",
        "    Параметры:\n",
        "        - nums (list): список.\n",
        "\n",
        "    Сложность: # O(1) \n",
        "    \"\"\"\n",
        "    return (nums[0] + nums[-1] ** 2)# O(1) + O(1)=2O(1)=O(1)\n",
        "\n",
        "#O(1)"
      ],
      "metadata": {
        "id": "39pLRDWVDlei"
      },
      "execution_count": null,
      "outputs": []
    },
    {
      "cell_type": "code",
      "source": [
        "def foo(low, high):\n",
        " \"\"\"\n",
        "  Параметры:\n",
        "        - low (int): нижняя граница;\n",
        "        - high (int): верхняя граница.\n",
        "  Сложность: O(N) \n",
        "  \"\"\"\n",
        "\n",
        "guessing = True # O(1)\n",
        "     while guessing: # O(N)\n",
        "guess = (low + high) // 2 # O(1) + O(1)\n",
        "print(\"Загаданное число {0}?\".format(guess)) # O(1)\n",
        "    pointer = input(\n",
        "      \"Введите '+', если Ваше число меньше.\\n\"\n",
        "      \"Введите '-' если Ваше число больше.\\n\"\n",
        "      \"Введите '=', если я угадал.\\n\").lower() # O(1)\n",
        "    if pointer == \"+\": # O(len(pointer) + O(1) \n",
        "      high = guess # O(1)\n",
        "    elif pointer == \"-\": # O(len(pointer) + O(1)\n",
        "      low = guess # O(1)\n",
        "    elif pointer == \"=\": # O(len(pointer) + O(1) \n",
        "      guessing = False # O(1)\n",
        "    else:\n",
        "      print(\"Введите '+', '-' или '='.\") # O(1)\n",
        "\n",
        "return guess # O(1)\n",
        "\n",
        "# O(1) + O(N) * (O(1) + O(1) + O(1) + 3*O(1)*O(1)) = O(1) + O(N) * 6*O(1) = O(N)\n",
        "\n",
        "low, high = 0, 100\n",
        "print(\"Пожалуйста, загадайте число от {0} до {1}!\".format(low, high))\n",
        "guess = foo(low, high)\n",
        "print(\"Игра окончена, Вы загадали число: {0}.\".format(guess))"
      ],
      "metadata": {
        "colab": {
          "base_uri": "https://localhost:8080/",
          "height": 134
        },
        "id": "5bY2D7lID_Ax",
        "outputId": "7f0f6a2f-7a07-4e84-c5c2-710f3b26bdaf"
      },
      "execution_count": null,
      "outputs": [
        {
          "output_type": "error",
          "ename": "IndentationError",
          "evalue": "ignored",
          "traceback": [
            "\u001b[0;36m  File \u001b[0;32m\"<ipython-input-19-8b87a1d995b2>\"\u001b[0;36m, line \u001b[0;32m10\u001b[0m\n\u001b[0;31m    while guessing: # O(N)\u001b[0m\n\u001b[0m    ^\u001b[0m\n\u001b[0;31mIndentationError\u001b[0m\u001b[0;31m:\u001b[0m unexpected indent\n"
          ]
        }
      ]
    }
  ]
}