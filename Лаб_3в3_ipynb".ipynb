{
  "nbformat": 4,
  "nbformat_minor": 0,
  "metadata": {
    "colab": {
      "provenance": [],
      "include_colab_link": true
    },
    "kernelspec": {
      "name": "python3",
      "display_name": "Python 3"
    },
    "language_info": {
      "name": "python"
    }
  },
  "cells": [
    {
      "cell_type": "markdown",
      "metadata": {
        "id": "view-in-github",
        "colab_type": "text"
      },
      "source": [
        "<a href=\"https://colab.research.google.com/github/sashaarlinskaya/Osnovy_Programming/blob/main/%D0%9B%D0%B0%D0%B1_3%D0%B23_ipynb%22.ipynb\" target=\"_parent\"><img src=\"https://colab.research.google.com/assets/colab-badge.svg\" alt=\"Open In Colab\"/></a>"
      ]
    },
    {
      "cell_type": "markdown",
      "source": [
        "Вариант №3\n",
        "Описать класс, представляющий треугольник. Предусмотреть методы для\n",
        "создания объектов, перемещения на плоскости, изменения размеров и вращения\n",
        "на заданный угол. Описать свойства для получения состояния объекта. При\n",
        "невозможности построения треугольника выбрасывается исключение.\n",
        "Написать программу, демонстрирующую все разработанные элементы\n",
        "класса. \n"
      ],
      "metadata": {
        "id": "LeVAjZ5CQ34K"
      }
    },
    {
      "cell_type": "code",
      "execution_count": 1,
      "metadata": {
        "colab": {
          "base_uri": "https://localhost:8080/"
        },
        "id": "hkTrAi4DBUJC",
        "outputId": "f2ebd7bd-1635-4db7-f9dc-ad32db15550f"
      },
      "outputs": [
        {
          "output_type": "stream",
          "name": "stdout",
          "text": [
            "Стороны треугольника: 3, 4, 5\n",
            "Периметр треугольника: 12\n",
            "Площадь треугольника: 6.0\n",
            "Новые стороны треугольника: 4, 6, 8\n",
            "Перевернутые стороны: 8, 12, 16\n",
            "Треугольник смещён\n",
            "ошибка: Треугольник не существует\n"
          ]
        }
      ],
      "source": [
        "class Triangle:\n",
        "    def __init__(self, a, b, c):\n",
        "        if not self.is_valid_triangle(a, b, c):\n",
        "            raise ValueError(\"Треугольник не существует\")\n",
        "        self._a = a\n",
        "        self._b = b\n",
        "        self._c = c\n",
        "\n",
        "    @property\n",
        "    def a(self):\n",
        "        return self._a\n",
        "\n",
        "    @property\n",
        "    def b(self):\n",
        "        return self._b\n",
        "\n",
        "    @property\n",
        "    def c(self):\n",
        "        return self._c\n",
        "\n",
        "    @property\n",
        "    def perimeter(self):\n",
        "        return self._a + self._b + self._c\n",
        "\n",
        "    @property\n",
        "    def area(self):\n",
        "        p = self.perimeter / 2\n",
        "        return (p * (p - self._a) * (p - self._b) * (p - self._c)) ** 0.5\n",
        "\n",
        "    def move(self, m, n):\n",
        "        self._a += m\n",
        "        self._b += n\n",
        "        self._c += m + n\n",
        "\n",
        "    def resize(self, x):\n",
        "        self._a *= x\n",
        "        self._b *= x\n",
        "        self._c *= x\n",
        "\n",
        "    def rotate(self, angle):\n",
        "        pass\n",
        "\n",
        "    @staticmethod\n",
        "    def is_valid_triangle(a, b, c):\n",
        "        return a + b > c and a + c > b and b + c > a\n",
        "\n",
        "try:\n",
        "    t1 = Triangle(3, 4, 5)\n",
        "    print(f\"Стороны треугольника: {t1.a}, {t1.b}, {t1.c}\")\n",
        "    print(f\"Периметр треугольника: {t1.perimeter}\")\n",
        "    print(f\"Площадь треугольника: {t1.area}\")\n",
        "\n",
        "    t1.move(1, 2)\n",
        "    print(f\"Новые стороны треугольника: {t1.a}, {t1.b}, {t1.c}\")\n",
        "\n",
        "    t1.resize(2)\n",
        "    print(f\"Перевернутые стороны: {t1.a}, {t1.b}, {t1.c}\")\n",
        "\n",
        "    t1.rotate(30)\n",
        "    print(\"Треугольник смещён\")\n",
        "\n",
        "    t2 = Triangle(1, 2, 3) \n",
        "except Exception as ex:\n",
        "    print(f\"ошибка: {ex}\")"
      ]
    }
  ]
}