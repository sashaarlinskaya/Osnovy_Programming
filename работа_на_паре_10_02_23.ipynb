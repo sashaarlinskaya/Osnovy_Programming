{
  "nbformat": 4,
  "nbformat_minor": 0,
  "metadata": {
    "colab": {
      "provenance": [],
      "authorship_tag": "ABX9TyOpCYuCprCSypYQ7u4Zces5",
      "include_colab_link": true
    },
    "kernelspec": {
      "name": "python3",
      "display_name": "Python 3"
    },
    "language_info": {
      "name": "python"
    }
  },
  "cells": [
    {
      "cell_type": "markdown",
      "metadata": {
        "id": "view-in-github",
        "colab_type": "text"
      },
      "source": [
        "<a href=\"https://colab.research.google.com/github/sashaarlinskaya/Osnovy_Programming/blob/main/%D1%80%D0%B0%D0%B1%D0%BE%D1%82%D0%B0_%D0%BD%D0%B0_%D0%BF%D0%B0%D1%80%D0%B5_10_02_23.ipynb\" target=\"_parent\"><img src=\"https://colab.research.google.com/assets/colab-badge.svg\" alt=\"Open In Colab\"/></a>"
      ]
    },
    {
      "cell_type": "markdown",
      "source": [],
      "metadata": {
        "id": "FYJWur4AYPU6"
      }
    },
    {
      "cell_type": "code",
      "execution_count": null,
      "metadata": {
        "colab": {
          "base_uri": "https://localhost:8080/"
        },
        "id": "fZM098WWO3Bg",
        "outputId": "e1c09253-3e05-4cff-f424-128c97dc6b14"
      },
      "outputs": [
        {
          "output_type": "stream",
          "name": "stdout",
          "text": [
            "15\n"
          ]
        }
      ],
      "source": [
        "class A:\n",
        "    x = 15\n",
        "    def print_x(self):\n",
        "        print(self.x)\n",
        "    def sum(self, a, b):\n",
        "        return self.x+a+b\n",
        "a = A() #create instance\n",
        "a.print_x() # 15\n",
        "b = a.sum(5, 2) # 22\n"
      ]
    },
    {
      "cell_type": "code",
      "source": [
        "class A:\n",
        "    x = 15\n",
        "    def print_x(self):\n",
        "        print(self.x)\n",
        "    def sum(self, a, b):\n",
        "        return self.x+a+b\n",
        "a = A() #create instance\n",
        "a.print_x() # 15\n",
        "b = a.sum(5, 2) # 22\n",
        "B = A()\n",
        "C = A()"
      ],
      "metadata": {
        "colab": {
          "base_uri": "https://localhost:8080/"
        },
        "id": "Nn5z7gciYRND",
        "outputId": "e4794fef-2ffa-402f-a22d-379bdb860bf4"
      },
      "execution_count": null,
      "outputs": [
        {
          "output_type": "stream",
          "name": "stdout",
          "text": [
            "15\n"
          ]
        }
      ]
    },
    {
      "cell_type": "markdown",
      "source": [
        "Каждый метод объекта должен иметь обязательный первый аргумент self"
      ],
      "metadata": {
        "id": "xX5KIS5UY9AB"
      }
    },
    {
      "cell_type": "code",
      "source": [
        "class A:\n",
        "    def hello():\n",
        "       print(\"Hello, world\")\n",
        "      \n",
        "a = A()\n",
        "# a.hello()\n",
        "A.hello()"
      ],
      "metadata": {
        "colab": {
          "base_uri": "https://localhost:8080/"
        },
        "id": "FsVUAfnAZG5E",
        "outputId": "1b3cafd9-4ad5-4e2e-abc2-18850a625b4f"
      },
      "execution_count": null,
      "outputs": [
        {
          "output_type": "stream",
          "name": "stdout",
          "text": [
            "Hello, world\n"
          ]
        }
      ]
    },
    {
      "cell_type": "code",
      "source": [
        "from re import X\n",
        "class A:\n",
        "    def __init__(self, x):\n",
        "        self.x = x\n",
        "        print(\"Hello\")\n",
        "\n",
        "    def __del__(self):\n",
        "        print(\"Good bye\")\n",
        "\n",
        "#a = A()\n",
        "a = A(15)\n",
        "a.x\n",
        "del a\n"
      ],
      "metadata": {
        "colab": {
          "base_uri": "https://localhost:8080/"
        },
        "id": "YMybQ5PCZlEW",
        "outputId": "831f3292-3ead-43b5-d0d7-3b29b748f4be"
      },
      "execution_count": null,
      "outputs": [
        {
          "output_type": "stream",
          "name": "stdout",
          "text": [
            "Hello\n",
            "Good bye\n"
          ]
        }
      ]
    },
    {
      "cell_type": "code",
      "source": [
        "class A:\n",
        "    def __init__(self):\n",
        "        print(\"Hello\")\n",
        "    def __del__(self):\n",
        "        print(\"Good bye\")\n",
        "def create_obj():\n",
        "    a = A()\n",
        "    return A\n",
        "if __name__ == \"__main__\":\n",
        "   a = create_obj()\n",
        "   print(\"program end\")\n",
        "   exit(0)"
      ],
      "metadata": {
        "colab": {
          "base_uri": "https://localhost:8080/"
        },
        "id": "ypqLiO7kaRMw",
        "outputId": "396e53ad-ab77-4fc0-9fbb-48fb5fad69c9"
      },
      "execution_count": null,
      "outputs": [
        {
          "output_type": "stream",
          "name": "stdout",
          "text": [
            "Hello\n",
            "Good bye\n",
            "program end\n"
          ]
        }
      ]
    },
    {
      "cell_type": "code",
      "source": [
        "class A:\n",
        "    def __init__(self, bb):\n",
        "        self.b = bb\n",
        "class B:\n",
        "    def __init__(self):\n",
        "        self.a = A(self)\n",
        "    def __del__(self):\n",
        "        print(\"Good bye\")\n",
        "def  fun():\n",
        "     b = B()\n",
        "     print(\"fun end\")\n",
        "fun()\n",
        "print(\"Program end\")    "
      ],
      "metadata": {
        "colab": {
          "base_uri": "https://localhost:8080/"
        },
        "id": "xUlFFPm7bTTz",
        "outputId": "800ceeba-fd49-40ff-8859-3206523df7ee"
      },
      "execution_count": null,
      "outputs": [
        {
          "output_type": "stream",
          "name": "stdout",
          "text": [
            "fun end\n",
            "Program end\n"
          ]
        }
      ]
    },
    {
      "cell_type": "code",
      "source": [
        "class Bus:\n",
        "    def __init__(self, passengers=[]):\n",
        "        self.passengers = passengers\n",
        "    def pick(self, name):\n",
        "        self.passengers.append(name)\n",
        "\n",
        "    def drop(self, name):\n",
        "        self.passengers.remove(name)\n",
        "\n",
        "bus1 = Bus([\"Alice\", \"Bill\"])\n",
        "bus1.passengers #Alice , Bill\n",
        "bus1.pick(\"Charlie\")\n",
        "bus1.drop(\"Alice\")\n",
        "bus1.passengers #Bill, Charlie\n",
        "\n",
        "bus2 = Bus()\n",
        "bus2.pick(\"Charlie\")\n",
        "\n",
        "bus3 = Bus()\n",
        "bus2.passengers is bus3.passengers\n"
      ],
      "metadata": {
        "colab": {
          "base_uri": "https://localhost:8080/"
        },
        "id": "LvNpisqAcZHP",
        "outputId": "49f9516c-7bb7-4ae1-ec6c-5bb60cb10865"
      },
      "execution_count": null,
      "outputs": [
        {
          "output_type": "execute_result",
          "data": {
            "text/plain": [
              "True"
            ]
          },
          "metadata": {},
          "execution_count": 2
        }
      ]
    },
    {
      "cell_type": "code",
      "source": [
        "class Bus:\n",
        "    def __unit__(self, passengers=None):\n",
        "        if passengers is None:\n",
        "           self.passengers = []\n",
        "        else:\n",
        "           self.passengers = passengers"
      ],
      "metadata": {
        "id": "wzKCfZa8d-q4"
      },
      "execution_count": null,
      "outputs": []
    },
    {
      "cell_type": "code",
      "source": [
        "class A:\n",
        "   x = 10 \n",
        "   __x = 1\n",
        "   def __init__(self):\n",
        "       self.y = 5\n",
        "       z = 1\n",
        "\n",
        "a = A()\n",
        "print(a.x)\n",
        "print(a.y)\n",
        "#print(a.z)\n",
        "#print(a.__x)\n",
        "print(A.x)\n",
        "#print(A.y)"
      ],
      "metadata": {
        "colab": {
          "base_uri": "https://localhost:8080/"
        },
        "id": "6N5S3p0der_J",
        "outputId": "ceabd7e2-01d5-42f8-b881-44371242fa6c"
      },
      "execution_count": null,
      "outputs": [
        {
          "output_type": "stream",
          "name": "stdout",
          "text": [
            "10\n",
            "5\n",
            "10\n"
          ]
        }
      ]
    },
    {
      "cell_type": "code",
      "source": [
        "class A:\n",
        "    x = 10\n",
        "\n",
        "a = A()\n",
        "b = A()\n",
        "a.x\n",
        "b.x\n",
        "A.x\n",
        "\n",
        "a.x = 4\n",
        "a.x\n",
        "b.x\n",
        "A.x"
      ],
      "metadata": {
        "colab": {
          "base_uri": "https://localhost:8080/"
        },
        "id": "bekZoowOfwsr",
        "outputId": "c4cbb66a-ab17-4067-8150-4303213f57f4"
      },
      "execution_count": null,
      "outputs": [
        {
          "output_type": "execute_result",
          "data": {
            "text/plain": [
              "10"
            ]
          },
          "metadata": {},
          "execution_count": 8
        }
      ]
    },
    {
      "cell_type": "code",
      "source": [
        "class A:\n",
        "    x = 10\n",
        "\n",
        "a = A()\n",
        "b = A()\n",
        "a.x = A\n",
        "a.x = 4\n",
        "a.__dict__\n",
        "a.__class__"
      ],
      "metadata": {
        "id": "wHP1fE80gIGY"
      },
      "execution_count": null,
      "outputs": []
    }
  ]
}