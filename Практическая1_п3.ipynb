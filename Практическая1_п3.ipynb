{
  "nbformat": 4,
  "nbformat_minor": 0,
  "metadata": {
    "colab": {
      "provenance": [],
      "authorship_tag": "ABX9TyO86Htw5ayBTvXWfk3l6ikI",
      "include_colab_link": true
    },
    "kernelspec": {
      "name": "python3",
      "display_name": "Python 3"
    },
    "language_info": {
      "name": "python"
    }
  },
  "cells": [
    {
      "cell_type": "markdown",
      "metadata": {
        "id": "view-in-github",
        "colab_type": "text"
      },
      "source": [
        "<a href=\"https://colab.research.google.com/github/sashaarlinskaya/Osnovy_Programming/blob/OP/%D0%9F%D1%80%D0%B0%D0%BA%D1%82%D0%B8%D1%87%D0%B5%D1%81%D0%BA%D0%B0%D1%8F1_%D0%BF3.ipynb\" target=\"_parent\"><img src=\"https://colab.research.google.com/assets/colab-badge.svg\" alt=\"Open In Colab\"/></a>"
      ]
    },
    {
      "cell_type": "markdown",
      "source": [
        "1.3.1 Создайте для класса «студент» функцию, которая считает средний\n",
        "балл по трем дисциплинам, оценки по которым вводятся пользователям.\n",
        "Реализуйте программу двумя способами: без использования\n",
        "конструктора __init__ и с ним. \n"
      ],
      "metadata": {
        "id": "L8Xb9OQTAsYY"
      }
    },
    {
      "cell_type": "code",
      "execution_count": 8,
      "metadata": {
        "colab": {
          "base_uri": "https://localhost:8080/"
        },
        "id": "9a1M2gOiAf42",
        "outputId": "8e6105fe-b967-406b-960e-df3a71c91cdb"
      },
      "outputs": [
        {
          "output_type": "stream",
          "name": "stdout",
          "text": [
            "введите первую оценку5\n",
            "введите вторую оценку4\n",
            "введите третью оценку3\n",
            "4.0\n"
          ]
        }
      ],
      "source": [
        "# без _init_\n",
        "\n",
        "a=int(input(\"введите первую оценку\"))\n",
        "b=int(input(\"введите вторую оценку\"))\n",
        "c=int(input(\"введите третью оценку\"))\n",
        "class Student:\n",
        "  first_mark=0\n",
        "  second_mark=0\n",
        "  third_mark=0\n",
        "marks=Student()\n",
        "marks.first_mark=a\n",
        "marks.second_mark=b\n",
        "marks.third_mark=c\n",
        "def kaif(a,b,c):\n",
        "  k=(a+b+c)/3\n",
        "  return k\n",
        "print(kaif(marks.first_mark,marks.second_mark,marks.third_mark))"
      ]
    },
    {
      "cell_type": "code",
      "source": [
        "# c _init_\n",
        "a=int(input(\"введите первую оценку\"))\n",
        "b=int(input(\"введите вторую оценку\"))\n",
        "c=int(input(\"введите третью оценку\"))\n",
        "class Student:\n",
        "  __a = int()\n",
        "  __b = int()\n",
        "  __c = int()\n",
        "  def __init__(self, __a, __b, __c):\n",
        "    self.a = __a\n",
        "    self.b = __b\n",
        "    self.c = __c\n",
        "  def kaif(self):\n",
        "    k=(self.a+self.b+self.c)/3\n",
        "    return k\n",
        "  def __del__(self):\n",
        "    print('Process deleted.')\n",
        "m = Student(a,b,c)\n",
        "print(f'Средний балл: {m.kaif()}')"
      ],
      "metadata": {
        "colab": {
          "base_uri": "https://localhost:8080/"
        },
        "id": "2-uyCTXQCxCX",
        "outputId": "d7b6eb61-6809-4322-92ea-f84b52a5ef0f"
      },
      "execution_count": 10,
      "outputs": [
        {
          "output_type": "stream",
          "name": "stdout",
          "text": [
            "введите первую оценку4\n",
            "введите вторую оценку3\n",
            "введите третью оценку4\n",
            "Средний балл: 3.6666666666666665\n",
            "Process deleted.\n"
          ]
        }
      ]
    },
    {
      "cell_type": "markdown",
      "source": [
        "1.3.2 Создайте функцию, которая считает и выводит в файл заработную\n",
        "плату сотрудника склада в зависимости от количества отработанных дней в\n",
        "месяце. Оклад является защищаемым атрибутом класса «сотрудник». "
      ],
      "metadata": {
        "id": "V0a10DbcCnH9"
      }
    },
    {
      "cell_type": "code",
      "source": [
        "class Sotrudnik:\n",
        "  __a=int() # оклад\n",
        "  __b=int() # кол-во отработанных часов\n",
        "  def __init__(self, __a, __b):\n",
        "    self.a = __a\n",
        "    self.b = __b\n",
        "  def salary(self):\n",
        "    m = self.a*self.b\n",
        "    return m\n",
        "  def __del__(self):\n",
        "    print('Process deleted.')"
      ],
      "metadata": {
        "id": "VeQi1ULXCq4j"
      },
      "execution_count": 2,
      "outputs": []
    },
    {
      "cell_type": "code",
      "source": [
        "try:\n",
        "  a=int(input(\"введите оклад\"))\n",
        "  b=int(input(\"введите кол-во отработанных дней\"))\n",
        "  n=Sotrudnik(a,b) \n",
        "  f=n.salary()\n",
        "  l=str(f)\n",
        "  file = open(\"111.txt\", 'w+', encoding='utf-8')\n",
        "  file.write(l)\n",
        "  file.close()\n",
        "  with open('111.txt', 'r') as filename:\n",
        "    for line in filename:\n",
        "      print(line)\n",
        "except FileNotFoundError:\n",
        "  print(\"ошибка чтения файла\")\n",
        "except:\n",
        "  print(\"ошибка при работе с файлом\")\n",
        "finally:\n",
        "  file.close()"
      ],
      "metadata": {
        "colab": {
          "base_uri": "https://localhost:8080/"
        },
        "id": "W5X3fB7oDI06",
        "outputId": "8908cdd0-0a3d-45f4-e637-81abe3e847e3"
      },
      "execution_count": 11,
      "outputs": [
        {
          "output_type": "stream",
          "name": "stdout",
          "text": [
            "введите оклад10000\n",
            "введите кол-во отработанных дней500\n",
            "5000000\n"
          ]
        }
      ]
    },
    {
      "cell_type": "markdown",
      "source": [
        "1.3.3 Используя результат предыдущего задания, создайте функцию\n",
        "начисления премии сотруднику, вычисляемую как 1% от уровня заработной\n",
        "платы. \n"
      ],
      "metadata": {
        "id": "qHBfDQUSDSPP"
      }
    },
    {
      "cell_type": "code",
      "source": [
        "def prem(file):\n",
        "  file=open('111.txt','r')\n",
        "  x=int(file.readline())\n",
        "  file.close()\n",
        "  y=(x/100)\n",
        "  return y"
      ],
      "metadata": {
        "id": "YcebuIirDYRF"
      },
      "execution_count": 4,
      "outputs": []
    },
    {
      "cell_type": "code",
      "source": [
        "prem(file)\n"
      ],
      "metadata": {
        "colab": {
          "base_uri": "https://localhost:8080/"
        },
        "id": "GD2aTBrnDebv",
        "outputId": "9a44feb6-a8b4-41d6-f8fc-107232d2f72a"
      },
      "execution_count": 5,
      "outputs": [
        {
          "output_type": "execute_result",
          "data": {
            "text/plain": [
              "500.0"
            ]
          },
          "metadata": {},
          "execution_count": 5
        }
      ]
    },
    {
      "cell_type": "markdown",
      "source": [
        "1.3.4 Модифицируйте предыдущую программу, позволяющую вычислять\n",
        "заработную плату, премию для сотрудников и определять величину общего\n",
        "фонда заработной платы как сумму заработной платы и премий, деленную на\n",
        "коэффициент 0,7. Данные о сотрудниках вводятся через цикл while и\n",
        "записываются в соответствующий файл .txt или .xlsx"
      ],
      "metadata": {
        "id": "1JpcA3RFDoPd"
      }
    },
    {
      "cell_type": "code",
      "source": [
        "def sum(n,file):\n",
        "  s=0\n",
        "  for x in n:\n",
        "    l=x/100\n",
        "    s=x+l+s\n",
        "  v=s/0.7\n",
        "  file = open(\"file.txt\", 'a+', encoding='utf-8')\n",
        "  file.write(f\"итого:{v}\")\n",
        "  file.close()\n",
        "try:\n",
        "  l=int(input('введите кол-во сотрудников'))\n",
        "  c=0\n",
        "  n=[]\n",
        "  while c<l:\n",
        "    c=c+1\n",
        "    a=int(input('введите кол-во отработанных дней'))\n",
        "    b=int(input('введите оклад'))\n",
        "    m=Sotrudnik(a,b)\n",
        "    n.append(m.salary())#получаем список зарплат\n",
        "    file = open(\"file.txt\", 'w+', encoding='utf-8')\n",
        "    k=[f\"оклад сотрудника {b} и отработал он {a} часов\"]\n",
        "    for i in k:#записываем в файл инф о сотрудниках\n",
        "      file.write(i)\n",
        "      file.write('\\n')\n",
        "  file.close()\n",
        "  sum(n,file)\n",
        "  with open('file.txt', 'r') as filename:\n",
        "    for line in filename:\n",
        "      print(line)\n",
        "except FileNotFoundError:\n",
        "  print(\"ошибка чтения файла\")\n",
        "except:\n",
        "  print(\"ошибка при работе с файлом\")"
      ],
      "metadata": {
        "colab": {
          "base_uri": "https://localhost:8080/"
        },
        "id": "2qPdzPVlDinz",
        "outputId": "abd89d1b-b99c-4321-ada9-b1b5078643c7"
      },
      "execution_count": 12,
      "outputs": [
        {
          "output_type": "stream",
          "name": "stdout",
          "text": [
            "введите кол-во сотрудников2\n",
            "Process deleted.\n",
            "введите кол-во отработанных дней5\n",
            "введите оклад200\n",
            "Process deleted.\n",
            "введите кол-во отработанных дней2\n",
            "введите оклад500\n",
            "оклад сотрудника 500 и отработал он 2 часов\n",
            "\n",
            "итого:2885.714285714286\n",
            "Process deleted.\n"
          ]
        }
      ]
    },
    {
      "cell_type": "markdown",
      "source": [
        "1.3.5 Используя технологию перегрузки операторов, измените\n",
        "__truediv__(деление) так, чтобы числителем был знаменатель и наоборот.\n",
        "Аналогичные процедуры осуществите для операторов\n",
        "__floordiv__(целочисленное деление), __mod__(остаток от деления). Числа\n",
        "вводят пользователи. Предусмотрите отработку исключений."
      ],
      "metadata": {
        "id": "_eJPuUrrEOlt"
      }
    },
    {
      "cell_type": "code",
      "source": [
        "a=int(input('введите 1 число'))\n",
        "b=int(input('введите 2 число'))\n",
        "class Test:\n",
        "  def __init__(self,a):\n",
        "    self.t = float(a)\n",
        "  def __truediv__(self, b):\n",
        "    return b/self.t\n",
        "  def __floordiv__(self,c):\n",
        "    return float(c//self.t)\n",
        "  def __mod__(self, z):\n",
        "    return float(z%self.t)\n",
        "m=Test(a)\n",
        "print(m/b)\n",
        "print(m//b)\n",
        "print(m%b)"
      ],
      "metadata": {
        "colab": {
          "base_uri": "https://localhost:8080/"
        },
        "id": "TPWOMVJ5EPrJ",
        "outputId": "9dc412c9-e1d3-4432-b2f9-4ac0833604cd"
      },
      "execution_count": 6,
      "outputs": [
        {
          "output_type": "stream",
          "name": "stdout",
          "text": [
            "введите 1 число2\n",
            "введите 2 число5\n",
            "2.5\n",
            "2.0\n",
            "1.0\n"
          ]
        }
      ]
    }
  ]
}