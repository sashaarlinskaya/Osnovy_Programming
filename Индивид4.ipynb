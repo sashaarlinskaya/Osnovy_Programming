{
  "nbformat": 4,
  "nbformat_minor": 0,
  "metadata": {
    "colab": {
      "provenance": [],
      "authorship_tag": "ABX9TyPGc1n9EStVl9zo+6PbcSa0",
      "include_colab_link": true
    },
    "kernelspec": {
      "name": "python3",
      "display_name": "Python 3"
    },
    "language_info": {
      "name": "python"
    }
  },
  "cells": [
    {
      "cell_type": "markdown",
      "metadata": {
        "id": "view-in-github",
        "colab_type": "text"
      },
      "source": [
        "<a href=\"https://colab.research.google.com/github/sashaarlinskaya/Osnovy_Programming/blob/main/%D0%98%D0%BD%D0%B4%D0%B8%D0%B2%D0%B8%D0%B44.ipynb\" target=\"_parent\"><img src=\"https://colab.research.google.com/assets/colab-badge.svg\" alt=\"Open In Colab\"/></a>"
      ]
    },
    {
      "cell_type": "markdown",
      "source": [
        "Задача 1"
      ],
      "metadata": {
        "id": "Nrm-XxeB2HcV"
      }
    },
    {
      "cell_type": "code",
      "execution_count": 1,
      "metadata": {
        "id": "GLJagjk016nd"
      },
      "outputs": [],
      "source": [
        "import time\n",
        "import sys"
      ]
    },
    {
      "cell_type": "code",
      "source": [
        "if __name__ == \"__main__\":\n",
        "  print(\"start\")\n",
        "  start = time.time()\n",
        "\n",
        "\n",
        "def recursive_sum(*args):\n",
        "    if not args:\n",
        "        return 0\n",
        "    else:\n",
        "        return args[0] + recursive_sum(*args[1:])\n",
        "\n",
        "args = (1, 2, 3, 4)\n",
        "\n",
        "result = recursive_sum(*args)\n",
        "\n",
        "end = time.time()\n",
        "\n",
        "memory_usage = sys.getsizeof(args) + sys.getsizeof(recursive_sum) + sys.getsizeof(start)+sys.getsizeof(end)+sys.getsizeof(result)\n",
        "print(\"результат:\", result)\n",
        "print(\"время работы:\", end - start, \"секунд\")\n",
        "print(\"используемая память:\", memory_usage, \"байт\")"
      ],
      "metadata": {
        "colab": {
          "base_uri": "https://localhost:8080/"
        },
        "id": "Vgk-7sMp2OKa",
        "outputId": "1d5041cd-6055-402c-c7a8-127dceb1f6d6"
      },
      "execution_count": 2,
      "outputs": [
        {
          "output_type": "stream",
          "name": "stdout",
          "text": [
            "start\n",
            "результат: 10\n",
            "время работы: 0.0003750324249267578 секунд\n",
            "используемая память: 292 байт\n"
          ]
        }
      ]
    },
    {
      "cell_type": "markdown",
      "source": [
        "Задание 2"
      ],
      "metadata": {
        "id": "CWOUMSKv2fEW"
      }
    },
    {
      "cell_type": "code",
      "source": [
        "import time\n",
        "import sys"
      ],
      "metadata": {
        "id": "q8IU4YUs2gp2"
      },
      "execution_count": 5,
      "outputs": []
    },
    {
      "cell_type": "code",
      "source": [
        "if __name__ == \"__main__\":\n",
        "  print(\"start\")\n",
        "  start = time.time()\n",
        "\n",
        "def answer(func):\n",
        "    def wrapper(*args, **kwargs):\n",
        "        result = func(*args, **kwargs)\n",
        "        return f\"Результат функции: {result}\"\n",
        "    return wrapper\n",
        "\n",
        "@answer\n",
        "def a_plus_b(a, b):\n",
        "    return a + b\n",
        "\n",
        "print(a_plus_b(3, 5))\n",
        "print(a_plus_b(7, 9))\n",
        "\n",
        "@answer\n",
        "def get_letters(text: str) -> str:\n",
        "  return ''.join(sorted(set(filter(str.isalpha, text.lower()))))\n",
        "print(get_letters('Hello, world!'))\n",
        "print(get_letters('Декораторы это круто =)'))\n",
        "\n",
        "end = time.time()\n",
        "\n",
        "memory_usage = sys.getsizeof(a_plus_b)+sys.getsizeof(get_letters) +sys.getsizeof(start)+sys.getsizeof(end)+sys.getsizeof(answer)\n",
        "print(\"время работы:\", end - start, \"секунд\")\n",
        "print(\"используемая память:\", memory_usage , \"байт\")"
      ],
      "metadata": {
        "colab": {
          "base_uri": "https://localhost:8080/"
        },
        "id": "sO_351BI2poD",
        "outputId": "95838dcc-a6d2-4a67-e98b-f945ddcf90e4"
      },
      "execution_count": 4,
      "outputs": [
        {
          "output_type": "stream",
          "name": "stdout",
          "text": [
            "start\n",
            "Результат функции: 8\n",
            "Результат функции: 16\n",
            "Результат функции: dehlorw\n",
            "Результат функции: адекортуыэ\n",
            "время работы: 0.0011432170867919922 секунд\n",
            "используемая память: 480 байт\n"
          ]
        }
      ]
    },
    {
      "cell_type": "markdown",
      "source": [
        "Задание 3"
      ],
      "metadata": {
        "id": "5xfldNr627-I"
      }
    },
    {
      "cell_type": "code",
      "source": [
        "import time\n",
        "import sys"
      ],
      "metadata": {
        "id": "3-Jx4pR529XV"
      },
      "execution_count": 6,
      "outputs": []
    },
    {
      "cell_type": "code",
      "source": [
        "if __name__ == \"__main__\":\n",
        "  print(\"start command\")\n",
        "  start = time.time()\n",
        "  \n",
        "def text_decor(func):\n",
        "  def wrapper(*args,**kwargs):\n",
        "    print(\"Hello\")\n",
        "    result = func(*args, **kwargs)\n",
        "    print(\"Goodbye!\")\n",
        "    return result\n",
        "  return wrapper\n",
        "\n",
        "@text_decor\n",
        "def simple_func():\n",
        "  print('I just simple python func')\n",
        "simple_func()\n",
        "\n",
        "@text_decor\n",
        "def multiply(num1, num2):\n",
        "  print(num1 * num2)\n",
        "multiply(3, 5)\n",
        "\n",
        "end=time.time()\n",
        "\n",
        "memory_usage = sys.getsizeof(simple_func)+sys.getsizeof(multiply)+sys.getsizeof(text_decor)+sys.getsizeof(start)+sys.getsizeof(end)\n",
        "\n",
        "print(\"время работы:\", end - start, \"секунд\")\n",
        "print(\"используемая память:\", memory_usage , \"байт\")"
      ],
      "metadata": {
        "colab": {
          "base_uri": "https://localhost:8080/"
        },
        "id": "55AJEdIO3LL4",
        "outputId": "45867736-7db6-44f6-8de9-b5c0e6f80a6a"
      },
      "execution_count": 7,
      "outputs": [
        {
          "output_type": "stream",
          "name": "stdout",
          "text": [
            "start command\n",
            "Hello\n",
            "I just simple python func\n",
            "Goodbye!\n",
            "Hello\n",
            "15\n",
            "Goodbye!\n",
            "время работы: 0.007171154022216797 секунд\n",
            "используемая память: 480 байт\n"
          ]
        }
      ]
    },
    {
      "cell_type": "markdown",
      "source": [
        "Задание 4"
      ],
      "metadata": {
        "id": "DY2XURf13t_7"
      }
    },
    {
      "cell_type": "code",
      "source": [
        "import time\n",
        "import sys"
      ],
      "metadata": {
        "id": "ctegEdSj3vjY"
      },
      "execution_count": 8,
      "outputs": []
    },
    {
      "cell_type": "code",
      "source": [
        "if __name__ == \"__main__\":\n",
        "  print(\"start command\")\n",
        "  start = time.time()\n",
        "  \n",
        "def repeater(func):\n",
        "  def wrapper(*args,**kwargs):\n",
        "    result = func(*args, **kwargs)\n",
        "    func(*args,**kwargs)\n",
        "    return result\n",
        "  return wrapper\n",
        "\n",
        "@repeater\n",
        "def multiply(num1, num2):\n",
        "  print(num1 * num2)\n",
        "multiply(2, 7) # после этого распечатается две строки со значением 14 \n",
        "multiply(5, 3) # после этого распечатается две строки со значением 15\n",
        "end=time.time()\n",
        "memory_usage = sys.getsizeof(multiply)+sys.getsizeof(repeater)+sys.getsizeof(start)+sys.getsizeof(end)\n",
        "\n",
        "print(\"время работы:\", end - start, \"секунд\")\n",
        "print(\"используемая память:\", memory_usage , \"байт\")"
      ],
      "metadata": {
        "colab": {
          "base_uri": "https://localhost:8080/"
        },
        "id": "FqHBqfsu36J2",
        "outputId": "bd7565b4-89a0-4883-dd65-f022b38db3a6"
      },
      "execution_count": 9,
      "outputs": [
        {
          "output_type": "stream",
          "name": "stdout",
          "text": [
            "start command\n",
            "14\n",
            "14\n",
            "15\n",
            "15\n",
            "время работы: 0.007179975509643555 секунд\n",
            "используемая память: 336 байт\n"
          ]
        }
      ]
    },
    {
      "cell_type": "markdown",
      "source": [
        "Задание 5"
      ],
      "metadata": {
        "id": "K3QYGNCu4KWM"
      }
    },
    {
      "cell_type": "code",
      "source": [
        "import time\n",
        "import sys"
      ],
      "metadata": {
        "id": "3YtbjZTn4MIr"
      },
      "execution_count": 10,
      "outputs": []
    },
    {
      "cell_type": "code",
      "source": [
        "if __name__ == \"__main__\":\n",
        "  print(\"start command\")\n",
        "  start = time.time()\n",
        "\n",
        "def double_it(func):\n",
        "  def wrapper(*args,**kwargs):\n",
        "    result = func(*args,**kwargs) *2 \n",
        "    return result\n",
        "  return wrapper \n",
        "\n",
        "@double_it\n",
        "def multiply(num1, num2):\n",
        "  return num1 * num2\n",
        "res1 = multiply(9, 4) # произведение 9*4=36, но декоратор double_it удваивает это значение\n",
        "print(res1)\n",
        "\n",
        "\n",
        "@double_it\n",
        "def get_sum(*args):\n",
        "  return sum(args)\n",
        "res2 = get_sum(1, 2, 3, 4, 5)\n",
        "print(res2)          # печатает 30\n",
        "\n",
        "end=time.time()\n",
        "memory_usage = sys.getsizeof(multiply)+sys.getsizeof(get_sum)+sys.getsizeof(start)+sys.getsizeof(end)+sys.getsizeof(double_it)+sys.getsizeof(res1)+sys.getsizeof(res2)\n",
        "\n",
        "print(\"время работы:\", end - start, \"секунд\")\n",
        "print(\"используемая память:\", memory_usage, \"байт\")"
      ],
      "metadata": {
        "colab": {
          "base_uri": "https://localhost:8080/"
        },
        "id": "1BU8fNFV4Qxz",
        "outputId": "9aab9be9-c472-4cca-a13a-07b27fb22836"
      },
      "execution_count": 11,
      "outputs": [
        {
          "output_type": "stream",
          "name": "stdout",
          "text": [
            "start command\n",
            "72\n",
            "30\n",
            "время работы: 0.007495880126953125 секунд\n",
            "используемая память: 536 байт\n"
          ]
        }
      ]
    },
    {
      "cell_type": "markdown",
      "source": [
        "Задание 6"
      ],
      "metadata": {
        "id": "jPZPhSfy4nLP"
      }
    },
    {
      "cell_type": "code",
      "source": [
        "import time\n",
        "import sys"
      ],
      "metadata": {
        "id": "fRJZtP-F5Tsx"
      },
      "execution_count": 12,
      "outputs": []
    },
    {
      "cell_type": "code",
      "source": [
        "if __name__ == \"__main__\":\n",
        "  print(\"start command\")\n",
        "  start = time.time()\n",
        "\n",
        "def add_args(begin, end):\n",
        "  def decorator(func):\n",
        "    def wrapper(*args, **kwargs):\n",
        "      new_args = (begin,) + args + (end,)\n",
        "      result = func(*new_args, **kwargs)\n",
        "      return result\n",
        "    wrapper.__name__ = func.__name__\n",
        "    wrapper.__doc__ = func.__doc__\n",
        "    return wrapper\n",
        "  return decorator\n",
        "\n",
        "@add_args(\"begin\", \"end\")\n",
        "def recursive_sum(*args):\n",
        "    if not args:\n",
        "        return 0\n",
        "    else:\n",
        "        return args[0] + recursive_sum(*args[1:])\n",
        "\n",
        "args = (1, 2, 3, 4)\n",
        "result = recursive_sum(*args)\n",
        "\n",
        "end = time.time()\n",
        "\n",
        "memory_usage = sys.getsizeof(args) + sys.getsizeof(recursive_sum) + sys.getsizeof(start) + sys.getsizeof(end) + sys.getsizeof(result)\n",
        "print(result)\n",
        "print(\"время работы:\", end - start, \"секунд\")\n",
        "print(\"используемая память:\", memory_usage, \"байт\")\n",
        "\n",
        "\n"
      ],
      "metadata": {
        "id": "kcXxLXxY5WuY"
      },
      "execution_count": null,
      "outputs": []
    },
    {
      "cell_type": "markdown",
      "source": [
        "Задание 7"
      ],
      "metadata": {
        "id": "o1Bt6oPg8se9"
      }
    },
    {
      "cell_type": "code",
      "source": [
        "import time\n",
        "import sys"
      ],
      "metadata": {
        "id": "9rGOfqQb8wFn"
      },
      "execution_count": 19,
      "outputs": []
    },
    {
      "cell_type": "code",
      "source": [
        "if __name__ == \"__main__\":\n",
        "  print(\"start command\")\n",
        "  start = time.time()\n",
        "\n",
        "def validate_args(func):\n",
        "  def wrapper(*args, **kwargs):\n",
        "   if len(args) < 2:\n",
        "            return \"Not enough arguments\"\n",
        "   elif len(args) > 2:\n",
        "            return \"To many arguments\" \n",
        "   elif not isinstance(args[0], int) or not isinstance(args[1], int):\n",
        "     return \"Wrong types\"\n",
        "   else:\n",
        "     result = func(*args, **kwargs)\n",
        "     return result\n",
        "  wrapper.__name__ = func.__name__\n",
        "  wrapper.__doc__ = func.__doc__\n",
        "  return wrapper\n",
        "\n",
        "@validate_args\n",
        "def recursive_sum(begin, end, *args):\n",
        "    if not args:\n",
        "        return 0\n",
        "    else:\n",
        "        return args[0] + recursive_sum(*args[1:])\n",
        "\n",
        "args = (1, 2, 3, 4)\n",
        "result = recursive_sum(*args)\n",
        "\n",
        "end = time.time()\n",
        "\n",
        "memory_usage = sys.getsizeof(args) + sys.getsizeof(recursive_sum) + sys.getsizeof(start) + sys.getsizeof(end) + sys.getsizeof(result)\n",
        "print(result)\n",
        "print(\"время работы:\", end - start, \"секунд\")\n",
        "print(\"используемая память:\", memory_usage, \"байт\")\n",
        "    "
      ],
      "metadata": {
        "colab": {
          "base_uri": "https://localhost:8080/"
        },
        "id": "2P5JfFdH9Zf8",
        "outputId": "ad84371b-7b20-4d12-b7d2-6d482e892b1c"
      },
      "execution_count": 21,
      "outputs": [
        {
          "output_type": "stream",
          "name": "stdout",
          "text": [
            "start command\n",
            "To many arguments\n",
            "время работы: 0.0007305145263671875 секунд\n",
            "используемая память: 330 байт\n"
          ]
        }
      ]
    }
  ]
}